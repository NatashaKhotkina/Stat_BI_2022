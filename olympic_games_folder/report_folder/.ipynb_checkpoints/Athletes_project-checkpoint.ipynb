{
 "cells": [
  {
   "cell_type": "code",
   "execution_count": 106,
   "id": "088575aa",
   "metadata": {},
   "outputs": [],
   "source": [
    "import pandas as pd\n",
    "import os\n",
    "import glob\n",
    "import matplotlib.pyplot as plt\n",
    "import seaborn as sns\n",
    "\n",
    "from matplotlib import rcParams\n",
    "from functools import partial\n",
    "from scipy.stats import shapiro \n",
    "from scipy.stats import ttest_ind\n",
    "from scipy.stats import chisquare "
   ]
  },
  {
   "cell_type": "markdown",
   "id": "92075763",
   "metadata": {},
   "source": [
    "## 1. Read files to one table"
   ]
  },
  {
   "cell_type": "code",
   "execution_count": 107,
   "id": "1de879e9",
   "metadata": {},
   "outputs": [],
   "source": [
    "path = \"/home/natalya/Stat_BI_2022/olympic_games_folder/data_folder\"\n",
    "extension = \"csv\""
   ]
  },
  {
   "cell_type": "code",
   "execution_count": 108,
   "id": "d67661aa",
   "metadata": {},
   "outputs": [],
   "source": [
    "def read_results(path, extension):\n",
    "    files = glob.glob(os.path.join(path, \"*.\" + extension))\n",
    "    if extension == \"csv\":\n",
    "        pd_function = partial(pd.read_csv, sep = \",\")    \n",
    "    elif extension == \"tsv\":\n",
    "        pd_function = partial(pd.read_csv, sep = \"\\t\")   \n",
    "    elif extension == \"xslx\":\n",
    "        pd_function = pd.read_excel\n",
    "    dfs = []\n",
    "    for f in files:\n",
    "        df = pd_function(f)\n",
    "        dfs.append(df)\n",
    "    athlete_events = pd.concat(dfs)\n",
    "    return athlete_events"
   ]
  },
  {
   "cell_type": "code",
   "execution_count": 109,
   "id": "dc18a57d",
   "metadata": {},
   "outputs": [],
   "source": [
    "athlete_events = read_results(path, extension)"
   ]
  },
  {
   "cell_type": "markdown",
   "id": "8474ba42",
   "metadata": {},
   "source": [
    "## 2. Check the data"
   ]
  },
  {
   "cell_type": "code",
   "execution_count": 110,
   "id": "1d4a9642",
   "metadata": {},
   "outputs": [
    {
     "data": {
      "text/html": [
       "<div>\n",
       "<style scoped>\n",
       "    .dataframe tbody tr th:only-of-type {\n",
       "        vertical-align: middle;\n",
       "    }\n",
       "\n",
       "    .dataframe tbody tr th {\n",
       "        vertical-align: top;\n",
       "    }\n",
       "\n",
       "    .dataframe thead th {\n",
       "        text-align: right;\n",
       "    }\n",
       "</style>\n",
       "<table border=\"1\" class=\"dataframe\">\n",
       "  <thead>\n",
       "    <tr style=\"text-align: right;\">\n",
       "      <th></th>\n",
       "      <th>ID</th>\n",
       "      <th>Name</th>\n",
       "      <th>Sex</th>\n",
       "      <th>Age</th>\n",
       "      <th>Height</th>\n",
       "      <th>Weight</th>\n",
       "      <th>Team</th>\n",
       "      <th>NOC</th>\n",
       "      <th>Games</th>\n",
       "      <th>Year</th>\n",
       "      <th>Season</th>\n",
       "      <th>City</th>\n",
       "      <th>Sport</th>\n",
       "      <th>Event</th>\n",
       "      <th>Medal</th>\n",
       "    </tr>\n",
       "  </thead>\n",
       "  <tbody>\n",
       "    <tr>\n",
       "      <th>0</th>\n",
       "      <td>113716</td>\n",
       "      <td>Pietro Speciale</td>\n",
       "      <td>M</td>\n",
       "      <td>43.0</td>\n",
       "      <td>NaN</td>\n",
       "      <td>NaN</td>\n",
       "      <td>Italy</td>\n",
       "      <td>ITA</td>\n",
       "      <td>1920 Summer</td>\n",
       "      <td>1920.0</td>\n",
       "      <td>Summer</td>\n",
       "      <td>Antwerpen</td>\n",
       "      <td>Fencing</td>\n",
       "      <td>Fencing Men's Foil, Individual</td>\n",
       "      <td>NaN</td>\n",
       "    </tr>\n",
       "    <tr>\n",
       "      <th>1</th>\n",
       "      <td>113716</td>\n",
       "      <td>Pietro Speciale</td>\n",
       "      <td>M</td>\n",
       "      <td>43.0</td>\n",
       "      <td>NaN</td>\n",
       "      <td>NaN</td>\n",
       "      <td>Italy</td>\n",
       "      <td>ITA</td>\n",
       "      <td>1920 Summer</td>\n",
       "      <td>1920.0</td>\n",
       "      <td>Summer</td>\n",
       "      <td>Antwerpen</td>\n",
       "      <td>Fencing</td>\n",
       "      <td>Fencing Men's Foil, Team</td>\n",
       "      <td>Gold</td>\n",
       "    </tr>\n",
       "    <tr>\n",
       "      <th>2</th>\n",
       "      <td>113717</td>\n",
       "      <td>Robert Speck</td>\n",
       "      <td>M</td>\n",
       "      <td>27.0</td>\n",
       "      <td>NaN</td>\n",
       "      <td>NaN</td>\n",
       "      <td>Romania</td>\n",
       "      <td>ROU</td>\n",
       "      <td>1936 Summer</td>\n",
       "      <td>1936.0</td>\n",
       "      <td>Summer</td>\n",
       "      <td>Berlin</td>\n",
       "      <td>Handball</td>\n",
       "      <td>Handball Men's Handball</td>\n",
       "      <td>NaN</td>\n",
       "    </tr>\n",
       "    <tr>\n",
       "      <th>3</th>\n",
       "      <td>113718</td>\n",
       "      <td>Walter Edward \"Walt\" Speck</td>\n",
       "      <td>M</td>\n",
       "      <td>35.0</td>\n",
       "      <td>NaN</td>\n",
       "      <td>NaN</td>\n",
       "      <td>United States</td>\n",
       "      <td>USA</td>\n",
       "      <td>1932 Summer</td>\n",
       "      <td>1932.0</td>\n",
       "      <td>Summer</td>\n",
       "      <td>Los Angeles</td>\n",
       "      <td>Art Competitions</td>\n",
       "      <td>Art Competitions Mixed Painting, Unknown Event</td>\n",
       "      <td>NaN</td>\n",
       "    </tr>\n",
       "    <tr>\n",
       "      <th>4</th>\n",
       "      <td>113718</td>\n",
       "      <td>Walter Edward \"Walt\" Speck</td>\n",
       "      <td>M</td>\n",
       "      <td>35.0</td>\n",
       "      <td>NaN</td>\n",
       "      <td>NaN</td>\n",
       "      <td>United States</td>\n",
       "      <td>USA</td>\n",
       "      <td>1932 Summer</td>\n",
       "      <td>1932.0</td>\n",
       "      <td>Summer</td>\n",
       "      <td>Los Angeles</td>\n",
       "      <td>Art Competitions</td>\n",
       "      <td>Art Competitions Mixed Painting, Unknown Event</td>\n",
       "      <td>NaN</td>\n",
       "    </tr>\n",
       "    <tr>\n",
       "      <th>...</th>\n",
       "      <td>...</td>\n",
       "      <td>...</td>\n",
       "      <td>...</td>\n",
       "      <td>...</td>\n",
       "      <td>...</td>\n",
       "      <td>...</td>\n",
       "      <td>...</td>\n",
       "      <td>...</td>\n",
       "      <td>...</td>\n",
       "      <td>...</td>\n",
       "      <td>...</td>\n",
       "      <td>...</td>\n",
       "      <td>...</td>\n",
       "      <td>...</td>\n",
       "      <td>...</td>\n",
       "    </tr>\n",
       "    <tr>\n",
       "      <th>22831</th>\n",
       "      <td>12004</td>\n",
       "      <td>Peter Grant Blackburn</td>\n",
       "      <td>M</td>\n",
       "      <td>28.0</td>\n",
       "      <td>179.0</td>\n",
       "      <td>78.0</td>\n",
       "      <td>Australia</td>\n",
       "      <td>AUS</td>\n",
       "      <td>1996 Summer</td>\n",
       "      <td>1996.0</td>\n",
       "      <td>Summer</td>\n",
       "      <td>Atlanta</td>\n",
       "      <td>Badminton</td>\n",
       "      <td>Badminton Mixed Doubles</td>\n",
       "      <td>NaN</td>\n",
       "    </tr>\n",
       "    <tr>\n",
       "      <th>22832</th>\n",
       "      <td>12004</td>\n",
       "      <td>Peter Grant Blackburn</td>\n",
       "      <td>M</td>\n",
       "      <td>28.0</td>\n",
       "      <td>179.0</td>\n",
       "      <td>78.0</td>\n",
       "      <td>Australia</td>\n",
       "      <td>AUS</td>\n",
       "      <td>1996 Summer</td>\n",
       "      <td>1996.0</td>\n",
       "      <td>Summer</td>\n",
       "      <td>Atlanta</td>\n",
       "      <td>Badminton</td>\n",
       "      <td>Badminton Men's Doubles</td>\n",
       "      <td>NaN</td>\n",
       "    </tr>\n",
       "    <tr>\n",
       "      <th>22833</th>\n",
       "      <td>12004</td>\n",
       "      <td>Peter Grant Blackburn</td>\n",
       "      <td>M</td>\n",
       "      <td>32.0</td>\n",
       "      <td>179.0</td>\n",
       "      <td>78.0</td>\n",
       "      <td>Australia</td>\n",
       "      <td>AUS</td>\n",
       "      <td>2000 Summer</td>\n",
       "      <td>2000.0</td>\n",
       "      <td>Summer</td>\n",
       "      <td>Sydney</td>\n",
       "      <td>Badminton</td>\n",
       "      <td>Badminton Mixed Doubles</td>\n",
       "      <td>NaN</td>\n",
       "    </tr>\n",
       "    <tr>\n",
       "      <th>22834</th>\n",
       "      <td>12004</td>\n",
       "      <td>Peter Grant Blackburn</td>\n",
       "      <td>M</td>\n",
       "      <td>32.0</td>\n",
       "      <td>179.0</td>\n",
       "      <td>78.0</td>\n",
       "      <td>Australia</td>\n",
       "      <td>AUS</td>\n",
       "      <td>2000 Summer</td>\n",
       "      <td>2000.0</td>\n",
       "      <td>Summer</td>\n",
       "      <td>Sydney</td>\n",
       "      <td>Badminton</td>\n",
       "      <td>Badminton Men's Doubles</td>\n",
       "      <td>NaN</td>\n",
       "    </tr>\n",
       "    <tr>\n",
       "      <th>22835</th>\n",
       "      <td>12005</td>\n",
       "      <td>Andrea Melissa Blackett</td>\n",
       "      <td>F</td>\n",
       "      <td>24.0</td>\n",
       "      <td>167.0</td>\n",
       "      <td>59.0</td>\n",
       "      <td>Barbados</td>\n",
       "      <td>BAR</td>\n",
       "      <td>2000 Su</td>\n",
       "      <td>NaN</td>\n",
       "      <td>NaN</td>\n",
       "      <td>NaN</td>\n",
       "      <td>NaN</td>\n",
       "      <td>NaN</td>\n",
       "      <td>NaN</td>\n",
       "    </tr>\n",
       "  </tbody>\n",
       "</table>\n",
       "<p>271115 rows × 15 columns</p>\n",
       "</div>"
      ],
      "text/plain": [
       "           ID                        Name Sex   Age  Height  Weight  \\\n",
       "0      113716             Pietro Speciale   M  43.0     NaN     NaN   \n",
       "1      113716             Pietro Speciale   M  43.0     NaN     NaN   \n",
       "2      113717                Robert Speck   M  27.0     NaN     NaN   \n",
       "3      113718  Walter Edward \"Walt\" Speck   M  35.0     NaN     NaN   \n",
       "4      113718  Walter Edward \"Walt\" Speck   M  35.0     NaN     NaN   \n",
       "...       ...                         ...  ..   ...     ...     ...   \n",
       "22831   12004       Peter Grant Blackburn   M  28.0   179.0    78.0   \n",
       "22832   12004       Peter Grant Blackburn   M  28.0   179.0    78.0   \n",
       "22833   12004       Peter Grant Blackburn   M  32.0   179.0    78.0   \n",
       "22834   12004       Peter Grant Blackburn   M  32.0   179.0    78.0   \n",
       "22835   12005     Andrea Melissa Blackett   F  24.0   167.0    59.0   \n",
       "\n",
       "                Team  NOC        Games    Year  Season         City  \\\n",
       "0              Italy  ITA  1920 Summer  1920.0  Summer    Antwerpen   \n",
       "1              Italy  ITA  1920 Summer  1920.0  Summer    Antwerpen   \n",
       "2            Romania  ROU  1936 Summer  1936.0  Summer       Berlin   \n",
       "3      United States  USA  1932 Summer  1932.0  Summer  Los Angeles   \n",
       "4      United States  USA  1932 Summer  1932.0  Summer  Los Angeles   \n",
       "...              ...  ...          ...     ...     ...          ...   \n",
       "22831      Australia  AUS  1996 Summer  1996.0  Summer      Atlanta   \n",
       "22832      Australia  AUS  1996 Summer  1996.0  Summer      Atlanta   \n",
       "22833      Australia  AUS  2000 Summer  2000.0  Summer       Sydney   \n",
       "22834      Australia  AUS  2000 Summer  2000.0  Summer       Sydney   \n",
       "22835       Barbados  BAR      2000 Su     NaN     NaN          NaN   \n",
       "\n",
       "                  Sport                                           Event Medal  \n",
       "0               Fencing                  Fencing Men's Foil, Individual   NaN  \n",
       "1               Fencing                        Fencing Men's Foil, Team  Gold  \n",
       "2              Handball                         Handball Men's Handball   NaN  \n",
       "3      Art Competitions  Art Competitions Mixed Painting, Unknown Event   NaN  \n",
       "4      Art Competitions  Art Competitions Mixed Painting, Unknown Event   NaN  \n",
       "...                 ...                                             ...   ...  \n",
       "22831         Badminton                         Badminton Mixed Doubles   NaN  \n",
       "22832         Badminton                         Badminton Men's Doubles   NaN  \n",
       "22833         Badminton                         Badminton Mixed Doubles   NaN  \n",
       "22834         Badminton                         Badminton Men's Doubles   NaN  \n",
       "22835               NaN                                             NaN   NaN  \n",
       "\n",
       "[271115 rows x 15 columns]"
      ]
     },
     "execution_count": 110,
     "metadata": {},
     "output_type": "execute_result"
    }
   ],
   "source": [
    "athlete_events"
   ]
  },
  {
   "cell_type": "code",
   "execution_count": 111,
   "id": "bc8e3753",
   "metadata": {},
   "outputs": [
    {
     "data": {
      "text/plain": [
       "1385"
      ]
     },
     "execution_count": 111,
     "metadata": {},
     "output_type": "execute_result"
    }
   ],
   "source": [
    "sum(athlete_events.duplicated())"
   ]
  },
  {
   "cell_type": "markdown",
   "id": "5e894b75",
   "metadata": {},
   "source": [
    "There are duplicated rows. Let's delete them - they can distort our results."
   ]
  },
  {
   "cell_type": "code",
   "execution_count": 112,
   "id": "149fdc6a",
   "metadata": {},
   "outputs": [],
   "source": [
    "athlete_events = athlete_events.drop_duplicates()"
   ]
  },
  {
   "cell_type": "markdown",
   "id": "7f2f4104",
   "metadata": {},
   "source": [
    "Let's check if there is any NAs."
   ]
  },
  {
   "cell_type": "code",
   "execution_count": 113,
   "id": "61d1f7fd",
   "metadata": {},
   "outputs": [
    {
     "data": {
      "text/plain": [
       "ID             0\n",
       "Name           1\n",
       "Sex            2\n",
       "Age         9317\n",
       "Height     58815\n",
       "Weight     61528\n",
       "Team           3\n",
       "NOC            4\n",
       "Games          5\n",
       "Year           7\n",
       "Season         7\n",
       "City           7\n",
       "Sport          7\n",
       "Event          8\n",
       "Medal     229959\n",
       "dtype: int64"
      ]
     },
     "execution_count": 113,
     "metadata": {},
     "output_type": "execute_result"
    }
   ],
   "source": [
    "athlete_events.isna().sum()"
   ]
  },
  {
   "cell_type": "markdown",
   "id": "9cff0fb1",
   "metadata": {},
   "source": [
    "Yes, there are some. We could leava them as it is (because usually various function can deal with NA). Numeric variables we could replace with mean value (but it's strange to replace object variables with smth). Sometimes NAs are replaced witht zeros (but here it would be wrong).\n",
    "\n",
    "In this case I'd prefer to drop row with NAs, because we have plenty of data, which is enough for our exploratory analysis. Of course, we shouldn't drop NAs in column 'Medal'."
   ]
  },
  {
   "cell_type": "code",
   "execution_count": 114,
   "id": "b7a8708d",
   "metadata": {},
   "outputs": [
    {
     "data": {
      "text/plain": [
       "Index(['ID', 'Name', 'Sex', 'Age', 'Height', 'Weight', 'Team', 'NOC', 'Games',\n",
       "       'Year', 'Season', 'City', 'Sport', 'Event', 'Medal'],\n",
       "      dtype='object')"
      ]
     },
     "execution_count": 114,
     "metadata": {},
     "output_type": "execute_result"
    }
   ],
   "source": [
    "athlete_events.columns"
   ]
  },
  {
   "cell_type": "code",
   "execution_count": 115,
   "id": "dd1d9ad3",
   "metadata": {},
   "outputs": [],
   "source": [
    "athlete_events = athlete_events.dropna(subset=['Name', 'Sex', 'Age', 'Height', 'Weight', 'Team', 'NOC', 'Games',\n",
    "       'Year', 'Season', 'City', 'Sport', 'Event'])"
   ]
  },
  {
   "cell_type": "code",
   "execution_count": 116,
   "id": "9b4de463",
   "metadata": {},
   "outputs": [
    {
     "data": {
      "text/plain": [
       "206146"
      ]
     },
     "execution_count": 116,
     "metadata": {},
     "output_type": "execute_result"
    }
   ],
   "source": [
    "athlete_events.shape[0]"
   ]
  },
  {
   "cell_type": "code",
   "execution_count": 117,
   "id": "068a07d8",
   "metadata": {},
   "outputs": [
    {
     "data": {
      "text/plain": [
       "ID             0\n",
       "Name           0\n",
       "Sex            0\n",
       "Age            0\n",
       "Height         0\n",
       "Weight         0\n",
       "Team           0\n",
       "NOC            0\n",
       "Games          0\n",
       "Year           0\n",
       "Season         0\n",
       "City           0\n",
       "Sport          0\n",
       "Event          0\n",
       "Medal     175965\n",
       "dtype: int64"
      ]
     },
     "execution_count": 117,
     "metadata": {},
     "output_type": "execute_result"
    }
   ],
   "source": [
    "athlete_events.isna().sum()"
   ]
  },
  {
   "cell_type": "markdown",
   "id": "5356397f",
   "metadata": {},
   "source": [
    "Let's reset row indecies."
   ]
  },
  {
   "cell_type": "code",
   "execution_count": 118,
   "id": "8365c58c",
   "metadata": {},
   "outputs": [],
   "source": [
    "athlete_events.index = list(range(athlete_events.shape[0]))"
   ]
  },
  {
   "cell_type": "code",
   "execution_count": 119,
   "id": "daeec576",
   "metadata": {},
   "outputs": [
    {
     "data": {
      "text/html": [
       "<div>\n",
       "<style scoped>\n",
       "    .dataframe tbody tr th:only-of-type {\n",
       "        vertical-align: middle;\n",
       "    }\n",
       "\n",
       "    .dataframe tbody tr th {\n",
       "        vertical-align: top;\n",
       "    }\n",
       "\n",
       "    .dataframe thead th {\n",
       "        text-align: right;\n",
       "    }\n",
       "</style>\n",
       "<table border=\"1\" class=\"dataframe\">\n",
       "  <thead>\n",
       "    <tr style=\"text-align: right;\">\n",
       "      <th></th>\n",
       "      <th>ID</th>\n",
       "      <th>Name</th>\n",
       "      <th>Sex</th>\n",
       "      <th>Age</th>\n",
       "      <th>Height</th>\n",
       "      <th>Weight</th>\n",
       "      <th>Team</th>\n",
       "      <th>NOC</th>\n",
       "      <th>Games</th>\n",
       "      <th>Year</th>\n",
       "      <th>Season</th>\n",
       "      <th>City</th>\n",
       "      <th>Sport</th>\n",
       "      <th>Event</th>\n",
       "      <th>Medal</th>\n",
       "    </tr>\n",
       "  </thead>\n",
       "  <tbody>\n",
       "    <tr>\n",
       "      <th>206141</th>\n",
       "      <td>12003</td>\n",
       "      <td>Michael James Blackburn</td>\n",
       "      <td>M</td>\n",
       "      <td>34.0</td>\n",
       "      <td>178.0</td>\n",
       "      <td>78.0</td>\n",
       "      <td>Australia</td>\n",
       "      <td>AUS</td>\n",
       "      <td>2004 Summer</td>\n",
       "      <td>2004.0</td>\n",
       "      <td>Summer</td>\n",
       "      <td>Athina</td>\n",
       "      <td>Sailing</td>\n",
       "      <td>Sailing Mixed One Person Dinghy</td>\n",
       "      <td>NaN</td>\n",
       "    </tr>\n",
       "    <tr>\n",
       "      <th>206142</th>\n",
       "      <td>12004</td>\n",
       "      <td>Peter Grant Blackburn</td>\n",
       "      <td>M</td>\n",
       "      <td>28.0</td>\n",
       "      <td>179.0</td>\n",
       "      <td>78.0</td>\n",
       "      <td>Australia</td>\n",
       "      <td>AUS</td>\n",
       "      <td>1996 Summer</td>\n",
       "      <td>1996.0</td>\n",
       "      <td>Summer</td>\n",
       "      <td>Atlanta</td>\n",
       "      <td>Badminton</td>\n",
       "      <td>Badminton Mixed Doubles</td>\n",
       "      <td>NaN</td>\n",
       "    </tr>\n",
       "    <tr>\n",
       "      <th>206143</th>\n",
       "      <td>12004</td>\n",
       "      <td>Peter Grant Blackburn</td>\n",
       "      <td>M</td>\n",
       "      <td>28.0</td>\n",
       "      <td>179.0</td>\n",
       "      <td>78.0</td>\n",
       "      <td>Australia</td>\n",
       "      <td>AUS</td>\n",
       "      <td>1996 Summer</td>\n",
       "      <td>1996.0</td>\n",
       "      <td>Summer</td>\n",
       "      <td>Atlanta</td>\n",
       "      <td>Badminton</td>\n",
       "      <td>Badminton Men's Doubles</td>\n",
       "      <td>NaN</td>\n",
       "    </tr>\n",
       "    <tr>\n",
       "      <th>206144</th>\n",
       "      <td>12004</td>\n",
       "      <td>Peter Grant Blackburn</td>\n",
       "      <td>M</td>\n",
       "      <td>32.0</td>\n",
       "      <td>179.0</td>\n",
       "      <td>78.0</td>\n",
       "      <td>Australia</td>\n",
       "      <td>AUS</td>\n",
       "      <td>2000 Summer</td>\n",
       "      <td>2000.0</td>\n",
       "      <td>Summer</td>\n",
       "      <td>Sydney</td>\n",
       "      <td>Badminton</td>\n",
       "      <td>Badminton Mixed Doubles</td>\n",
       "      <td>NaN</td>\n",
       "    </tr>\n",
       "    <tr>\n",
       "      <th>206145</th>\n",
       "      <td>12004</td>\n",
       "      <td>Peter Grant Blackburn</td>\n",
       "      <td>M</td>\n",
       "      <td>32.0</td>\n",
       "      <td>179.0</td>\n",
       "      <td>78.0</td>\n",
       "      <td>Australia</td>\n",
       "      <td>AUS</td>\n",
       "      <td>2000 Summer</td>\n",
       "      <td>2000.0</td>\n",
       "      <td>Summer</td>\n",
       "      <td>Sydney</td>\n",
       "      <td>Badminton</td>\n",
       "      <td>Badminton Men's Doubles</td>\n",
       "      <td>NaN</td>\n",
       "    </tr>\n",
       "  </tbody>\n",
       "</table>\n",
       "</div>"
      ],
      "text/plain": [
       "           ID                     Name Sex   Age  Height  Weight       Team  \\\n",
       "206141  12003  Michael James Blackburn   M  34.0   178.0    78.0  Australia   \n",
       "206142  12004    Peter Grant Blackburn   M  28.0   179.0    78.0  Australia   \n",
       "206143  12004    Peter Grant Blackburn   M  28.0   179.0    78.0  Australia   \n",
       "206144  12004    Peter Grant Blackburn   M  32.0   179.0    78.0  Australia   \n",
       "206145  12004    Peter Grant Blackburn   M  32.0   179.0    78.0  Australia   \n",
       "\n",
       "        NOC        Games    Year  Season     City      Sport  \\\n",
       "206141  AUS  2004 Summer  2004.0  Summer   Athina    Sailing   \n",
       "206142  AUS  1996 Summer  1996.0  Summer  Atlanta  Badminton   \n",
       "206143  AUS  1996 Summer  1996.0  Summer  Atlanta  Badminton   \n",
       "206144  AUS  2000 Summer  2000.0  Summer   Sydney  Badminton   \n",
       "206145  AUS  2000 Summer  2000.0  Summer   Sydney  Badminton   \n",
       "\n",
       "                                  Event Medal  \n",
       "206141  Sailing Mixed One Person Dinghy   NaN  \n",
       "206142          Badminton Mixed Doubles   NaN  \n",
       "206143          Badminton Men's Doubles   NaN  \n",
       "206144          Badminton Mixed Doubles   NaN  \n",
       "206145          Badminton Men's Doubles   NaN  "
      ]
     },
     "execution_count": 119,
     "metadata": {},
     "output_type": "execute_result"
    }
   ],
   "source": [
    "athlete_events.tail()"
   ]
  },
  {
   "cell_type": "markdown",
   "id": "a896fcfe",
   "metadata": {},
   "source": [
    "Let's check data types."
   ]
  },
  {
   "cell_type": "code",
   "execution_count": 120,
   "id": "dd3e6f97",
   "metadata": {},
   "outputs": [
    {
     "data": {
      "text/plain": [
       "ID          int64\n",
       "Name       object\n",
       "Sex        object\n",
       "Age       float64\n",
       "Height    float64\n",
       "Weight    float64\n",
       "Team       object\n",
       "NOC        object\n",
       "Games      object\n",
       "Year      float64\n",
       "Season     object\n",
       "City       object\n",
       "Sport      object\n",
       "Event      object\n",
       "Medal      object\n",
       "dtype: object"
      ]
     },
     "execution_count": 120,
     "metadata": {},
     "output_type": "execute_result"
    }
   ],
   "source": [
    "athlete_events.dtypes"
   ]
  },
  {
   "cell_type": "code",
   "execution_count": 121,
   "id": "7fbf04e1",
   "metadata": {},
   "outputs": [],
   "source": [
    "athlete_events['Year'] = athlete_events['Year'].astype('int64')"
   ]
  },
  {
   "cell_type": "code",
   "execution_count": 122,
   "id": "4b36338f",
   "metadata": {},
   "outputs": [
    {
     "data": {
      "text/plain": [
       "ID          int64\n",
       "Name       object\n",
       "Sex        object\n",
       "Age       float64\n",
       "Height    float64\n",
       "Weight    float64\n",
       "Team       object\n",
       "NOC        object\n",
       "Games      object\n",
       "Year        int64\n",
       "Season     object\n",
       "City       object\n",
       "Sport      object\n",
       "Event      object\n",
       "Medal      object\n",
       "dtype: object"
      ]
     },
     "execution_count": 122,
     "metadata": {},
     "output_type": "execute_result"
    }
   ],
   "source": [
    "athlete_events.dtypes"
   ]
  },
  {
   "cell_type": "markdown",
   "id": "3be87def",
   "metadata": {},
   "source": [
    "And some descriptive statistics"
   ]
  },
  {
   "cell_type": "code",
   "execution_count": 123,
   "id": "221d1b7e",
   "metadata": {},
   "outputs": [
    {
     "data": {
      "text/html": [
       "<div>\n",
       "<style scoped>\n",
       "    .dataframe tbody tr th:only-of-type {\n",
       "        vertical-align: middle;\n",
       "    }\n",
       "\n",
       "    .dataframe tbody tr th {\n",
       "        vertical-align: top;\n",
       "    }\n",
       "\n",
       "    .dataframe thead th {\n",
       "        text-align: right;\n",
       "    }\n",
       "</style>\n",
       "<table border=\"1\" class=\"dataframe\">\n",
       "  <thead>\n",
       "    <tr style=\"text-align: right;\">\n",
       "      <th></th>\n",
       "      <th>ID</th>\n",
       "      <th>Age</th>\n",
       "      <th>Height</th>\n",
       "      <th>Weight</th>\n",
       "      <th>Year</th>\n",
       "    </tr>\n",
       "  </thead>\n",
       "  <tbody>\n",
       "    <tr>\n",
       "      <th>count</th>\n",
       "      <td>206146.000000</td>\n",
       "      <td>206146.000000</td>\n",
       "      <td>206146.000000</td>\n",
       "      <td>206146.000000</td>\n",
       "      <td>206146.000000</td>\n",
       "    </tr>\n",
       "    <tr>\n",
       "      <th>mean</th>\n",
       "      <td>68615.858503</td>\n",
       "      <td>25.054738</td>\n",
       "      <td>175.372993</td>\n",
       "      <td>70.688687</td>\n",
       "      <td>1989.678403</td>\n",
       "    </tr>\n",
       "    <tr>\n",
       "      <th>std</th>\n",
       "      <td>38996.979918</td>\n",
       "      <td>5.481717</td>\n",
       "      <td>10.552121</td>\n",
       "      <td>14.340838</td>\n",
       "      <td>20.125790</td>\n",
       "    </tr>\n",
       "    <tr>\n",
       "      <th>min</th>\n",
       "      <td>1.000000</td>\n",
       "      <td>11.000000</td>\n",
       "      <td>127.000000</td>\n",
       "      <td>25.000000</td>\n",
       "      <td>1896.000000</td>\n",
       "    </tr>\n",
       "    <tr>\n",
       "      <th>25%</th>\n",
       "      <td>35189.000000</td>\n",
       "      <td>21.000000</td>\n",
       "      <td>168.000000</td>\n",
       "      <td>60.000000</td>\n",
       "      <td>1976.000000</td>\n",
       "    </tr>\n",
       "    <tr>\n",
       "      <th>50%</th>\n",
       "      <td>68629.000000</td>\n",
       "      <td>24.000000</td>\n",
       "      <td>175.000000</td>\n",
       "      <td>70.000000</td>\n",
       "      <td>1992.000000</td>\n",
       "    </tr>\n",
       "    <tr>\n",
       "      <th>75%</th>\n",
       "      <td>102312.000000</td>\n",
       "      <td>28.000000</td>\n",
       "      <td>183.000000</td>\n",
       "      <td>79.000000</td>\n",
       "      <td>2006.000000</td>\n",
       "    </tr>\n",
       "    <tr>\n",
       "      <th>max</th>\n",
       "      <td>135571.000000</td>\n",
       "      <td>71.000000</td>\n",
       "      <td>340.000000</td>\n",
       "      <td>214.000000</td>\n",
       "      <td>2016.000000</td>\n",
       "    </tr>\n",
       "  </tbody>\n",
       "</table>\n",
       "</div>"
      ],
      "text/plain": [
       "                  ID            Age         Height         Weight  \\\n",
       "count  206146.000000  206146.000000  206146.000000  206146.000000   \n",
       "mean    68615.858503      25.054738     175.372993      70.688687   \n",
       "std     38996.979918       5.481717      10.552121      14.340838   \n",
       "min         1.000000      11.000000     127.000000      25.000000   \n",
       "25%     35189.000000      21.000000     168.000000      60.000000   \n",
       "50%     68629.000000      24.000000     175.000000      70.000000   \n",
       "75%    102312.000000      28.000000     183.000000      79.000000   \n",
       "max    135571.000000      71.000000     340.000000     214.000000   \n",
       "\n",
       "                Year  \n",
       "count  206146.000000  \n",
       "mean     1989.678403  \n",
       "std        20.125790  \n",
       "min      1896.000000  \n",
       "25%      1976.000000  \n",
       "50%      1992.000000  \n",
       "75%      2006.000000  \n",
       "max      2016.000000  "
      ]
     },
     "execution_count": 123,
     "metadata": {},
     "output_type": "execute_result"
    }
   ],
   "source": [
    "athlete_events.describe()"
   ]
  },
  {
   "cell_type": "markdown",
   "id": "7e871801",
   "metadata": {},
   "source": [
    "It's impossible to be 340 cm high..."
   ]
  },
  {
   "cell_type": "code",
   "execution_count": 124,
   "id": "3c98d7cc",
   "metadata": {},
   "outputs": [
    {
     "data": {
      "text/html": [
       "<div>\n",
       "<style scoped>\n",
       "    .dataframe tbody tr th:only-of-type {\n",
       "        vertical-align: middle;\n",
       "    }\n",
       "\n",
       "    .dataframe tbody tr th {\n",
       "        vertical-align: top;\n",
       "    }\n",
       "\n",
       "    .dataframe thead th {\n",
       "        text-align: right;\n",
       "    }\n",
       "</style>\n",
       "<table border=\"1\" class=\"dataframe\">\n",
       "  <thead>\n",
       "    <tr style=\"text-align: right;\">\n",
       "      <th></th>\n",
       "      <th>ID</th>\n",
       "      <th>Name</th>\n",
       "      <th>Sex</th>\n",
       "      <th>Age</th>\n",
       "      <th>Height</th>\n",
       "      <th>Weight</th>\n",
       "      <th>Team</th>\n",
       "      <th>NOC</th>\n",
       "      <th>Games</th>\n",
       "      <th>Year</th>\n",
       "      <th>Season</th>\n",
       "      <th>City</th>\n",
       "      <th>Sport</th>\n",
       "      <th>Event</th>\n",
       "      <th>Medal</th>\n",
       "    </tr>\n",
       "  </thead>\n",
       "  <tbody>\n",
       "    <tr>\n",
       "      <th>104365</th>\n",
       "      <td>23549</td>\n",
       "      <td>Kirsty Leigh Coventry (-Seward)</td>\n",
       "      <td>F</td>\n",
       "      <td>28.0</td>\n",
       "      <td>340.0</td>\n",
       "      <td>64.0</td>\n",
       "      <td>Zimbabwe</td>\n",
       "      <td>ZIM</td>\n",
       "      <td>2012 Summer</td>\n",
       "      <td>2012</td>\n",
       "      <td>Summer</td>\n",
       "      <td>London</td>\n",
       "      <td>Swimming</td>\n",
       "      <td>Swimming Women's 200 metres Individual Medley</td>\n",
       "      <td>NaN</td>\n",
       "    </tr>\n",
       "  </tbody>\n",
       "</table>\n",
       "</div>"
      ],
      "text/plain": [
       "           ID                             Name Sex   Age  Height  Weight  \\\n",
       "104365  23549  Kirsty Leigh Coventry (-Seward)   F  28.0   340.0    64.0   \n",
       "\n",
       "            Team  NOC        Games  Year  Season    City     Sport  \\\n",
       "104365  Zimbabwe  ZIM  2012 Summer  2012  Summer  London  Swimming   \n",
       "\n",
       "                                                Event Medal  \n",
       "104365  Swimming Women's 200 metres Individual Medley   NaN  "
      ]
     },
     "execution_count": 124,
     "metadata": {},
     "output_type": "execute_result"
    }
   ],
   "source": [
    "athlete_events.query(\"Height == 340\")"
   ]
  },
  {
   "cell_type": "code",
   "execution_count": 125,
   "id": "e8c5e5bc",
   "metadata": {},
   "outputs": [
    {
     "data": {
      "text/html": [
       "<div>\n",
       "<style scoped>\n",
       "    .dataframe tbody tr th:only-of-type {\n",
       "        vertical-align: middle;\n",
       "    }\n",
       "\n",
       "    .dataframe tbody tr th {\n",
       "        vertical-align: top;\n",
       "    }\n",
       "\n",
       "    .dataframe thead th {\n",
       "        text-align: right;\n",
       "    }\n",
       "</style>\n",
       "<table border=\"1\" class=\"dataframe\">\n",
       "  <thead>\n",
       "    <tr style=\"text-align: right;\">\n",
       "      <th></th>\n",
       "      <th>ID</th>\n",
       "      <th>Name</th>\n",
       "      <th>Sex</th>\n",
       "      <th>Age</th>\n",
       "      <th>Height</th>\n",
       "      <th>Weight</th>\n",
       "      <th>Team</th>\n",
       "      <th>NOC</th>\n",
       "      <th>Games</th>\n",
       "      <th>Year</th>\n",
       "      <th>Season</th>\n",
       "      <th>City</th>\n",
       "      <th>Sport</th>\n",
       "      <th>Event</th>\n",
       "      <th>Medal</th>\n",
       "    </tr>\n",
       "  </thead>\n",
       "  <tbody>\n",
       "    <tr>\n",
       "      <th>104352</th>\n",
       "      <td>23549</td>\n",
       "      <td>Kirsty Leigh Coventry (-Seward)</td>\n",
       "      <td>F</td>\n",
       "      <td>16.0</td>\n",
       "      <td>176.0</td>\n",
       "      <td>64.0</td>\n",
       "      <td>Zimbabwe</td>\n",
       "      <td>ZIM</td>\n",
       "      <td>2000 Summer</td>\n",
       "      <td>2000</td>\n",
       "      <td>Summer</td>\n",
       "      <td>Sydney</td>\n",
       "      <td>Swimming</td>\n",
       "      <td>Swimming Women's 50 metres Freestyle</td>\n",
       "      <td>NaN</td>\n",
       "    </tr>\n",
       "    <tr>\n",
       "      <th>104353</th>\n",
       "      <td>23549</td>\n",
       "      <td>Kirsty Leigh Coventry (-Seward)</td>\n",
       "      <td>F</td>\n",
       "      <td>16.0</td>\n",
       "      <td>176.0</td>\n",
       "      <td>64.0</td>\n",
       "      <td>Zimbabwe</td>\n",
       "      <td>ZIM</td>\n",
       "      <td>2000 Summer</td>\n",
       "      <td>2000</td>\n",
       "      <td>Summer</td>\n",
       "      <td>Sydney</td>\n",
       "      <td>Swimming</td>\n",
       "      <td>Swimming Women's 100 metres Freestyle</td>\n",
       "      <td>NaN</td>\n",
       "    </tr>\n",
       "    <tr>\n",
       "      <th>104354</th>\n",
       "      <td>23549</td>\n",
       "      <td>Kirsty Leigh Coventry (-Seward)</td>\n",
       "      <td>F</td>\n",
       "      <td>16.0</td>\n",
       "      <td>176.0</td>\n",
       "      <td>64.0</td>\n",
       "      <td>Zimbabwe</td>\n",
       "      <td>ZIM</td>\n",
       "      <td>2000 Summer</td>\n",
       "      <td>2000</td>\n",
       "      <td>Summer</td>\n",
       "      <td>Sydney</td>\n",
       "      <td>Swimming</td>\n",
       "      <td>Swimming Women's 100 metres Backstroke</td>\n",
       "      <td>NaN</td>\n",
       "    </tr>\n",
       "    <tr>\n",
       "      <th>104355</th>\n",
       "      <td>23549</td>\n",
       "      <td>Kirsty Leigh Coventry (-Seward)</td>\n",
       "      <td>F</td>\n",
       "      <td>16.0</td>\n",
       "      <td>176.0</td>\n",
       "      <td>64.0</td>\n",
       "      <td>Zimbabwe</td>\n",
       "      <td>ZIM</td>\n",
       "      <td>2000 Summer</td>\n",
       "      <td>2000</td>\n",
       "      <td>Summer</td>\n",
       "      <td>Sydney</td>\n",
       "      <td>Swimming</td>\n",
       "      <td>Swimming Women's 200 metres Individual Medley</td>\n",
       "      <td>NaN</td>\n",
       "    </tr>\n",
       "    <tr>\n",
       "      <th>104356</th>\n",
       "      <td>23549</td>\n",
       "      <td>Kirsty Leigh Coventry (-Seward)</td>\n",
       "      <td>F</td>\n",
       "      <td>20.0</td>\n",
       "      <td>176.0</td>\n",
       "      <td>64.0</td>\n",
       "      <td>Zimbabwe</td>\n",
       "      <td>ZIM</td>\n",
       "      <td>2004 Summer</td>\n",
       "      <td>2004</td>\n",
       "      <td>Summer</td>\n",
       "      <td>Athina</td>\n",
       "      <td>Swimming</td>\n",
       "      <td>Swimming Women's 100 metres Backstroke</td>\n",
       "      <td>Silver</td>\n",
       "    </tr>\n",
       "    <tr>\n",
       "      <th>104357</th>\n",
       "      <td>23549</td>\n",
       "      <td>Kirsty Leigh Coventry (-Seward)</td>\n",
       "      <td>F</td>\n",
       "      <td>20.0</td>\n",
       "      <td>176.0</td>\n",
       "      <td>64.0</td>\n",
       "      <td>Zimbabwe</td>\n",
       "      <td>ZIM</td>\n",
       "      <td>2004 Summer</td>\n",
       "      <td>2004</td>\n",
       "      <td>Summer</td>\n",
       "      <td>Athina</td>\n",
       "      <td>Swimming</td>\n",
       "      <td>Swimming Women's 200 metres Backstroke</td>\n",
       "      <td>Gold</td>\n",
       "    </tr>\n",
       "    <tr>\n",
       "      <th>104358</th>\n",
       "      <td>23549</td>\n",
       "      <td>Kirsty Leigh Coventry (-Seward)</td>\n",
       "      <td>F</td>\n",
       "      <td>20.0</td>\n",
       "      <td>176.0</td>\n",
       "      <td>64.0</td>\n",
       "      <td>Zimbabwe</td>\n",
       "      <td>ZIM</td>\n",
       "      <td>2004 Summer</td>\n",
       "      <td>2004</td>\n",
       "      <td>Summer</td>\n",
       "      <td>Athina</td>\n",
       "      <td>Swimming</td>\n",
       "      <td>Swimming Women's 200 metres Individual Medley</td>\n",
       "      <td>Bronze</td>\n",
       "    </tr>\n",
       "    <tr>\n",
       "      <th>104359</th>\n",
       "      <td>23549</td>\n",
       "      <td>Kirsty Leigh Coventry (-Seward)</td>\n",
       "      <td>F</td>\n",
       "      <td>24.0</td>\n",
       "      <td>176.0</td>\n",
       "      <td>64.0</td>\n",
       "      <td>Zimbabwe</td>\n",
       "      <td>ZIM</td>\n",
       "      <td>2008 Summer</td>\n",
       "      <td>2008</td>\n",
       "      <td>Summer</td>\n",
       "      <td>Beijing</td>\n",
       "      <td>Swimming</td>\n",
       "      <td>Swimming Women's 100 metres Backstroke</td>\n",
       "      <td>Silver</td>\n",
       "    </tr>\n",
       "    <tr>\n",
       "      <th>104360</th>\n",
       "      <td>23549</td>\n",
       "      <td>Kirsty Leigh Coventry (-Seward)</td>\n",
       "      <td>F</td>\n",
       "      <td>24.0</td>\n",
       "      <td>176.0</td>\n",
       "      <td>64.0</td>\n",
       "      <td>Zimbabwe</td>\n",
       "      <td>ZIM</td>\n",
       "      <td>2008 Summer</td>\n",
       "      <td>2008</td>\n",
       "      <td>Summer</td>\n",
       "      <td>Beijing</td>\n",
       "      <td>Swimming</td>\n",
       "      <td>Swimming Women's 200 metres Backstroke</td>\n",
       "      <td>Gold</td>\n",
       "    </tr>\n",
       "    <tr>\n",
       "      <th>104361</th>\n",
       "      <td>23549</td>\n",
       "      <td>Kirsty Leigh Coventry (-Seward)</td>\n",
       "      <td>F</td>\n",
       "      <td>24.0</td>\n",
       "      <td>176.0</td>\n",
       "      <td>64.0</td>\n",
       "      <td>Zimbabwe</td>\n",
       "      <td>ZIM</td>\n",
       "      <td>2008 Summer</td>\n",
       "      <td>2008</td>\n",
       "      <td>Summer</td>\n",
       "      <td>Beijing</td>\n",
       "      <td>Swimming</td>\n",
       "      <td>Swimming Women's 200 metres Individual Medley</td>\n",
       "      <td>Silver</td>\n",
       "    </tr>\n",
       "    <tr>\n",
       "      <th>104362</th>\n",
       "      <td>23549</td>\n",
       "      <td>Kirsty Leigh Coventry (-Seward)</td>\n",
       "      <td>F</td>\n",
       "      <td>24.0</td>\n",
       "      <td>176.0</td>\n",
       "      <td>64.0</td>\n",
       "      <td>Zimbabwe</td>\n",
       "      <td>ZIM</td>\n",
       "      <td>2008 Summer</td>\n",
       "      <td>2008</td>\n",
       "      <td>Summer</td>\n",
       "      <td>Beijing</td>\n",
       "      <td>Swimming</td>\n",
       "      <td>Swimming Women's 400 metres Individual Medley</td>\n",
       "      <td>Silver</td>\n",
       "    </tr>\n",
       "    <tr>\n",
       "      <th>104363</th>\n",
       "      <td>23549</td>\n",
       "      <td>Kirsty Leigh Coventry (-Seward)</td>\n",
       "      <td>F</td>\n",
       "      <td>28.0</td>\n",
       "      <td>176.0</td>\n",
       "      <td>64.0</td>\n",
       "      <td>Zimbabwe</td>\n",
       "      <td>ZIM</td>\n",
       "      <td>2012 Summer</td>\n",
       "      <td>2012</td>\n",
       "      <td>Summer</td>\n",
       "      <td>London</td>\n",
       "      <td>Swimming</td>\n",
       "      <td>Swimming Women's 100 metres Backstroke</td>\n",
       "      <td>NaN</td>\n",
       "    </tr>\n",
       "    <tr>\n",
       "      <th>104364</th>\n",
       "      <td>23549</td>\n",
       "      <td>Kirsty Leigh Coventry (-Seward)</td>\n",
       "      <td>F</td>\n",
       "      <td>28.0</td>\n",
       "      <td>176.0</td>\n",
       "      <td>64.0</td>\n",
       "      <td>Zimbabwe</td>\n",
       "      <td>ZIM</td>\n",
       "      <td>2012 Summer</td>\n",
       "      <td>2012</td>\n",
       "      <td>Summer</td>\n",
       "      <td>London</td>\n",
       "      <td>Swimming</td>\n",
       "      <td>Swimming Women's 200 metres Backstroke</td>\n",
       "      <td>NaN</td>\n",
       "    </tr>\n",
       "    <tr>\n",
       "      <th>104365</th>\n",
       "      <td>23549</td>\n",
       "      <td>Kirsty Leigh Coventry (-Seward)</td>\n",
       "      <td>F</td>\n",
       "      <td>28.0</td>\n",
       "      <td>340.0</td>\n",
       "      <td>64.0</td>\n",
       "      <td>Zimbabwe</td>\n",
       "      <td>ZIM</td>\n",
       "      <td>2012 Summer</td>\n",
       "      <td>2012</td>\n",
       "      <td>Summer</td>\n",
       "      <td>London</td>\n",
       "      <td>Swimming</td>\n",
       "      <td>Swimming Women's 200 metres Individual Medley</td>\n",
       "      <td>NaN</td>\n",
       "    </tr>\n",
       "    <tr>\n",
       "      <th>104366</th>\n",
       "      <td>23549</td>\n",
       "      <td>Kirsty Leigh Coventry (-Seward)</td>\n",
       "      <td>F</td>\n",
       "      <td>32.0</td>\n",
       "      <td>176.0</td>\n",
       "      <td>64.0</td>\n",
       "      <td>Zimbabwe</td>\n",
       "      <td>ZIM</td>\n",
       "      <td>2016 Summer</td>\n",
       "      <td>2016</td>\n",
       "      <td>Summer</td>\n",
       "      <td>Rio de Janeiro</td>\n",
       "      <td>Swimming</td>\n",
       "      <td>Swimming Women's 100 metres Backstroke</td>\n",
       "      <td>NaN</td>\n",
       "    </tr>\n",
       "    <tr>\n",
       "      <th>104367</th>\n",
       "      <td>23549</td>\n",
       "      <td>Kirsty Leigh Coventry (-Seward)</td>\n",
       "      <td>F</td>\n",
       "      <td>32.0</td>\n",
       "      <td>176.0</td>\n",
       "      <td>64.0</td>\n",
       "      <td>Zimbabwe</td>\n",
       "      <td>ZIM</td>\n",
       "      <td>2016 Summer</td>\n",
       "      <td>2016</td>\n",
       "      <td>Summer</td>\n",
       "      <td>Rio de Janeiro</td>\n",
       "      <td>Swimming</td>\n",
       "      <td>Swimming Women's 200 metres Backstroke</td>\n",
       "      <td>NaN</td>\n",
       "    </tr>\n",
       "  </tbody>\n",
       "</table>\n",
       "</div>"
      ],
      "text/plain": [
       "           ID                             Name Sex   Age  Height  Weight  \\\n",
       "104352  23549  Kirsty Leigh Coventry (-Seward)   F  16.0   176.0    64.0   \n",
       "104353  23549  Kirsty Leigh Coventry (-Seward)   F  16.0   176.0    64.0   \n",
       "104354  23549  Kirsty Leigh Coventry (-Seward)   F  16.0   176.0    64.0   \n",
       "104355  23549  Kirsty Leigh Coventry (-Seward)   F  16.0   176.0    64.0   \n",
       "104356  23549  Kirsty Leigh Coventry (-Seward)   F  20.0   176.0    64.0   \n",
       "104357  23549  Kirsty Leigh Coventry (-Seward)   F  20.0   176.0    64.0   \n",
       "104358  23549  Kirsty Leigh Coventry (-Seward)   F  20.0   176.0    64.0   \n",
       "104359  23549  Kirsty Leigh Coventry (-Seward)   F  24.0   176.0    64.0   \n",
       "104360  23549  Kirsty Leigh Coventry (-Seward)   F  24.0   176.0    64.0   \n",
       "104361  23549  Kirsty Leigh Coventry (-Seward)   F  24.0   176.0    64.0   \n",
       "104362  23549  Kirsty Leigh Coventry (-Seward)   F  24.0   176.0    64.0   \n",
       "104363  23549  Kirsty Leigh Coventry (-Seward)   F  28.0   176.0    64.0   \n",
       "104364  23549  Kirsty Leigh Coventry (-Seward)   F  28.0   176.0    64.0   \n",
       "104365  23549  Kirsty Leigh Coventry (-Seward)   F  28.0   340.0    64.0   \n",
       "104366  23549  Kirsty Leigh Coventry (-Seward)   F  32.0   176.0    64.0   \n",
       "104367  23549  Kirsty Leigh Coventry (-Seward)   F  32.0   176.0    64.0   \n",
       "\n",
       "            Team  NOC        Games  Year  Season            City     Sport  \\\n",
       "104352  Zimbabwe  ZIM  2000 Summer  2000  Summer          Sydney  Swimming   \n",
       "104353  Zimbabwe  ZIM  2000 Summer  2000  Summer          Sydney  Swimming   \n",
       "104354  Zimbabwe  ZIM  2000 Summer  2000  Summer          Sydney  Swimming   \n",
       "104355  Zimbabwe  ZIM  2000 Summer  2000  Summer          Sydney  Swimming   \n",
       "104356  Zimbabwe  ZIM  2004 Summer  2004  Summer          Athina  Swimming   \n",
       "104357  Zimbabwe  ZIM  2004 Summer  2004  Summer          Athina  Swimming   \n",
       "104358  Zimbabwe  ZIM  2004 Summer  2004  Summer          Athina  Swimming   \n",
       "104359  Zimbabwe  ZIM  2008 Summer  2008  Summer         Beijing  Swimming   \n",
       "104360  Zimbabwe  ZIM  2008 Summer  2008  Summer         Beijing  Swimming   \n",
       "104361  Zimbabwe  ZIM  2008 Summer  2008  Summer         Beijing  Swimming   \n",
       "104362  Zimbabwe  ZIM  2008 Summer  2008  Summer         Beijing  Swimming   \n",
       "104363  Zimbabwe  ZIM  2012 Summer  2012  Summer          London  Swimming   \n",
       "104364  Zimbabwe  ZIM  2012 Summer  2012  Summer          London  Swimming   \n",
       "104365  Zimbabwe  ZIM  2012 Summer  2012  Summer          London  Swimming   \n",
       "104366  Zimbabwe  ZIM  2016 Summer  2016  Summer  Rio de Janeiro  Swimming   \n",
       "104367  Zimbabwe  ZIM  2016 Summer  2016  Summer  Rio de Janeiro  Swimming   \n",
       "\n",
       "                                                Event   Medal  \n",
       "104352           Swimming Women's 50 metres Freestyle     NaN  \n",
       "104353          Swimming Women's 100 metres Freestyle     NaN  \n",
       "104354         Swimming Women's 100 metres Backstroke     NaN  \n",
       "104355  Swimming Women's 200 metres Individual Medley     NaN  \n",
       "104356         Swimming Women's 100 metres Backstroke  Silver  \n",
       "104357         Swimming Women's 200 metres Backstroke    Gold  \n",
       "104358  Swimming Women's 200 metres Individual Medley  Bronze  \n",
       "104359         Swimming Women's 100 metres Backstroke  Silver  \n",
       "104360         Swimming Women's 200 metres Backstroke    Gold  \n",
       "104361  Swimming Women's 200 metres Individual Medley  Silver  \n",
       "104362  Swimming Women's 400 metres Individual Medley  Silver  \n",
       "104363         Swimming Women's 100 metres Backstroke     NaN  \n",
       "104364         Swimming Women's 200 metres Backstroke     NaN  \n",
       "104365  Swimming Women's 200 metres Individual Medley     NaN  \n",
       "104366         Swimming Women's 100 metres Backstroke     NaN  \n",
       "104367         Swimming Women's 200 metres Backstroke     NaN  "
      ]
     },
     "execution_count": 125,
     "metadata": {},
     "output_type": "execute_result"
    }
   ],
   "source": [
    "athlete_events.query(\"ID == 23549\")"
   ]
  },
  {
   "cell_type": "markdown",
   "id": "80072872",
   "metadata": {},
   "source": [
    "Looks like she was actually 176 high."
   ]
  },
  {
   "cell_type": "code",
   "execution_count": 126,
   "id": "6cc278dd",
   "metadata": {},
   "outputs": [],
   "source": [
    "outlier_line_idx = athlete_events.query(\"Height == 340\").index"
   ]
  },
  {
   "cell_type": "code",
   "execution_count": 127,
   "id": "fd3e6ce2",
   "metadata": {},
   "outputs": [],
   "source": [
    "athlete_events.loc[outlier_line_idx, \"Height\"] = 176"
   ]
  },
  {
   "cell_type": "code",
   "execution_count": 128,
   "id": "bd51af0d",
   "metadata": {},
   "outputs": [
    {
     "data": {
      "text/plain": [
       "count    206146.000000\n",
       "mean        175.372197\n",
       "std          10.545890\n",
       "min         127.000000\n",
       "25%         168.000000\n",
       "50%         175.000000\n",
       "75%         183.000000\n",
       "max         226.000000\n",
       "Name: Height, dtype: float64"
      ]
     },
     "execution_count": 128,
     "metadata": {},
     "output_type": "execute_result"
    }
   ],
   "source": [
    "athlete_events[\"Height\"].describe()"
   ]
  },
  {
   "cell_type": "code",
   "execution_count": 129,
   "id": "a1a53d8e",
   "metadata": {},
   "outputs": [
    {
     "data": {
      "text/html": [
       "<div>\n",
       "<style scoped>\n",
       "    .dataframe tbody tr th:only-of-type {\n",
       "        vertical-align: middle;\n",
       "    }\n",
       "\n",
       "    .dataframe tbody tr th {\n",
       "        vertical-align: top;\n",
       "    }\n",
       "\n",
       "    .dataframe thead th {\n",
       "        text-align: right;\n",
       "    }\n",
       "</style>\n",
       "<table border=\"1\" class=\"dataframe\">\n",
       "  <thead>\n",
       "    <tr style=\"text-align: right;\">\n",
       "      <th></th>\n",
       "      <th>ID</th>\n",
       "      <th>Name</th>\n",
       "      <th>Sex</th>\n",
       "      <th>Age</th>\n",
       "      <th>Height</th>\n",
       "      <th>Weight</th>\n",
       "      <th>Team</th>\n",
       "      <th>NOC</th>\n",
       "      <th>Games</th>\n",
       "      <th>Year</th>\n",
       "      <th>Season</th>\n",
       "      <th>City</th>\n",
       "      <th>Sport</th>\n",
       "      <th>Event</th>\n",
       "      <th>Medal</th>\n",
       "    </tr>\n",
       "  </thead>\n",
       "  <tbody>\n",
       "    <tr>\n",
       "      <th>47133</th>\n",
       "      <td>132627</td>\n",
       "      <td>Yao Ming</td>\n",
       "      <td>M</td>\n",
       "      <td>20.0</td>\n",
       "      <td>226.0</td>\n",
       "      <td>141.0</td>\n",
       "      <td>China</td>\n",
       "      <td>CHN</td>\n",
       "      <td>2000 Summer</td>\n",
       "      <td>2000</td>\n",
       "      <td>Summer</td>\n",
       "      <td>Sydney</td>\n",
       "      <td>Basketball</td>\n",
       "      <td>Basketball Men's Basketball</td>\n",
       "      <td>NaN</td>\n",
       "    </tr>\n",
       "    <tr>\n",
       "      <th>47134</th>\n",
       "      <td>132627</td>\n",
       "      <td>Yao Ming</td>\n",
       "      <td>M</td>\n",
       "      <td>23.0</td>\n",
       "      <td>226.0</td>\n",
       "      <td>141.0</td>\n",
       "      <td>China</td>\n",
       "      <td>CHN</td>\n",
       "      <td>2004 Summer</td>\n",
       "      <td>2004</td>\n",
       "      <td>Summer</td>\n",
       "      <td>Athina</td>\n",
       "      <td>Basketball</td>\n",
       "      <td>Basketball Men's Basketball</td>\n",
       "      <td>NaN</td>\n",
       "    </tr>\n",
       "    <tr>\n",
       "      <th>47135</th>\n",
       "      <td>132627</td>\n",
       "      <td>Yao Ming</td>\n",
       "      <td>M</td>\n",
       "      <td>27.0</td>\n",
       "      <td>226.0</td>\n",
       "      <td>141.0</td>\n",
       "      <td>China</td>\n",
       "      <td>CHN</td>\n",
       "      <td>2008 Summer</td>\n",
       "      <td>2008</td>\n",
       "      <td>Summer</td>\n",
       "      <td>Beijing</td>\n",
       "      <td>Basketball</td>\n",
       "      <td>Basketball Men's Basketball</td>\n",
       "      <td>NaN</td>\n",
       "    </tr>\n",
       "  </tbody>\n",
       "</table>\n",
       "</div>"
      ],
      "text/plain": [
       "           ID      Name Sex   Age  Height  Weight   Team  NOC        Games  \\\n",
       "47133  132627  Yao Ming   M  20.0   226.0   141.0  China  CHN  2000 Summer   \n",
       "47134  132627  Yao Ming   M  23.0   226.0   141.0  China  CHN  2004 Summer   \n",
       "47135  132627  Yao Ming   M  27.0   226.0   141.0  China  CHN  2008 Summer   \n",
       "\n",
       "       Year  Season     City       Sport                        Event Medal  \n",
       "47133  2000  Summer   Sydney  Basketball  Basketball Men's Basketball   NaN  \n",
       "47134  2004  Summer   Athina  Basketball  Basketball Men's Basketball   NaN  \n",
       "47135  2008  Summer  Beijing  Basketball  Basketball Men's Basketball   NaN  "
      ]
     },
     "execution_count": 129,
     "metadata": {},
     "output_type": "execute_result"
    }
   ],
   "source": [
    "athlete_events.query(\"Height == 226\")"
   ]
  },
  {
   "cell_type": "code",
   "execution_count": 130,
   "id": "30cc9850",
   "metadata": {},
   "outputs": [
    {
     "data": {
      "text/html": [
       "<div>\n",
       "<style scoped>\n",
       "    .dataframe tbody tr th:only-of-type {\n",
       "        vertical-align: middle;\n",
       "    }\n",
       "\n",
       "    .dataframe tbody tr th {\n",
       "        vertical-align: top;\n",
       "    }\n",
       "\n",
       "    .dataframe thead th {\n",
       "        text-align: right;\n",
       "    }\n",
       "</style>\n",
       "<table border=\"1\" class=\"dataframe\">\n",
       "  <thead>\n",
       "    <tr style=\"text-align: right;\">\n",
       "      <th></th>\n",
       "      <th>ID</th>\n",
       "      <th>Name</th>\n",
       "      <th>Sex</th>\n",
       "      <th>Age</th>\n",
       "      <th>Height</th>\n",
       "      <th>Weight</th>\n",
       "      <th>Team</th>\n",
       "      <th>NOC</th>\n",
       "      <th>Games</th>\n",
       "      <th>Year</th>\n",
       "      <th>Season</th>\n",
       "      <th>City</th>\n",
       "      <th>Sport</th>\n",
       "      <th>Event</th>\n",
       "      <th>Medal</th>\n",
       "    </tr>\n",
       "  </thead>\n",
       "  <tbody>\n",
       "    <tr>\n",
       "      <th>47133</th>\n",
       "      <td>132627</td>\n",
       "      <td>Yao Ming</td>\n",
       "      <td>M</td>\n",
       "      <td>20.0</td>\n",
       "      <td>226.0</td>\n",
       "      <td>141.0</td>\n",
       "      <td>China</td>\n",
       "      <td>CHN</td>\n",
       "      <td>2000 Summer</td>\n",
       "      <td>2000</td>\n",
       "      <td>Summer</td>\n",
       "      <td>Sydney</td>\n",
       "      <td>Basketball</td>\n",
       "      <td>Basketball Men's Basketball</td>\n",
       "      <td>NaN</td>\n",
       "    </tr>\n",
       "    <tr>\n",
       "      <th>47134</th>\n",
       "      <td>132627</td>\n",
       "      <td>Yao Ming</td>\n",
       "      <td>M</td>\n",
       "      <td>23.0</td>\n",
       "      <td>226.0</td>\n",
       "      <td>141.0</td>\n",
       "      <td>China</td>\n",
       "      <td>CHN</td>\n",
       "      <td>2004 Summer</td>\n",
       "      <td>2004</td>\n",
       "      <td>Summer</td>\n",
       "      <td>Athina</td>\n",
       "      <td>Basketball</td>\n",
       "      <td>Basketball Men's Basketball</td>\n",
       "      <td>NaN</td>\n",
       "    </tr>\n",
       "    <tr>\n",
       "      <th>47135</th>\n",
       "      <td>132627</td>\n",
       "      <td>Yao Ming</td>\n",
       "      <td>M</td>\n",
       "      <td>27.0</td>\n",
       "      <td>226.0</td>\n",
       "      <td>141.0</td>\n",
       "      <td>China</td>\n",
       "      <td>CHN</td>\n",
       "      <td>2008 Summer</td>\n",
       "      <td>2008</td>\n",
       "      <td>Summer</td>\n",
       "      <td>Beijing</td>\n",
       "      <td>Basketball</td>\n",
       "      <td>Basketball Men's Basketball</td>\n",
       "      <td>NaN</td>\n",
       "    </tr>\n",
       "  </tbody>\n",
       "</table>\n",
       "</div>"
      ],
      "text/plain": [
       "           ID      Name Sex   Age  Height  Weight   Team  NOC        Games  \\\n",
       "47133  132627  Yao Ming   M  20.0   226.0   141.0  China  CHN  2000 Summer   \n",
       "47134  132627  Yao Ming   M  23.0   226.0   141.0  China  CHN  2004 Summer   \n",
       "47135  132627  Yao Ming   M  27.0   226.0   141.0  China  CHN  2008 Summer   \n",
       "\n",
       "       Year  Season     City       Sport                        Event Medal  \n",
       "47133  2000  Summer   Sydney  Basketball  Basketball Men's Basketball   NaN  \n",
       "47134  2004  Summer   Athina  Basketball  Basketball Men's Basketball   NaN  \n",
       "47135  2008  Summer  Beijing  Basketball  Basketball Men's Basketball   NaN  "
      ]
     },
     "execution_count": 130,
     "metadata": {},
     "output_type": "execute_result"
    }
   ],
   "source": [
    "athlete_events.query(\"ID == 132627\")"
   ]
  },
  {
   "cell_type": "markdown",
   "id": "e42414bb",
   "metadata": {},
   "source": [
    "Ok, this guy was really that tall."
   ]
  },
  {
   "cell_type": "code",
   "execution_count": 131,
   "id": "7620dd69",
   "metadata": {},
   "outputs": [
    {
     "data": {
      "text/plain": [
       "Sex                         [M, F, G]\n",
       "Season               [Summer, Winter]\n",
       "Medal     [Bronze, nan, Silver, Gold]\n",
       "dtype: object"
      ]
     },
     "execution_count": 131,
     "metadata": {},
     "output_type": "execute_result"
    }
   ],
   "source": [
    "athlete_events[[\"Sex\", \"Season\", \"Medal\"]].apply(pd.unique)"
   ]
  },
  {
   "cell_type": "markdown",
   "id": "7f7ac9c4",
   "metadata": {},
   "source": [
    "What is G gender?"
   ]
  },
  {
   "cell_type": "code",
   "execution_count": 132,
   "id": "d828939f",
   "metadata": {},
   "outputs": [
    {
     "data": {
      "text/html": [
       "<div>\n",
       "<style scoped>\n",
       "    .dataframe tbody tr th:only-of-type {\n",
       "        vertical-align: middle;\n",
       "    }\n",
       "\n",
       "    .dataframe tbody tr th {\n",
       "        vertical-align: top;\n",
       "    }\n",
       "\n",
       "    .dataframe thead th {\n",
       "        text-align: right;\n",
       "    }\n",
       "</style>\n",
       "<table border=\"1\" class=\"dataframe\">\n",
       "  <thead>\n",
       "    <tr style=\"text-align: right;\">\n",
       "      <th></th>\n",
       "      <th>ID</th>\n",
       "      <th>Name</th>\n",
       "      <th>Sex</th>\n",
       "      <th>Age</th>\n",
       "      <th>Height</th>\n",
       "      <th>Weight</th>\n",
       "      <th>Team</th>\n",
       "      <th>NOC</th>\n",
       "      <th>Games</th>\n",
       "      <th>Year</th>\n",
       "      <th>Season</th>\n",
       "      <th>City</th>\n",
       "      <th>Sport</th>\n",
       "      <th>Event</th>\n",
       "      <th>Medal</th>\n",
       "    </tr>\n",
       "  </thead>\n",
       "  <tbody>\n",
       "    <tr>\n",
       "      <th>69473</th>\n",
       "      <td>79609</td>\n",
       "      <td>Pavel Mike</td>\n",
       "      <td>G</td>\n",
       "      <td>22.0</td>\n",
       "      <td>182.0</td>\n",
       "      <td>79.0</td>\n",
       "      <td>Czechoslovakia</td>\n",
       "      <td>TCH</td>\n",
       "      <td>1972 Summer</td>\n",
       "      <td>1972</td>\n",
       "      <td>Summer</td>\n",
       "      <td>Munich</td>\n",
       "      <td>Handball</td>\n",
       "      <td>Handball Men's Handball</td>\n",
       "      <td>Silver</td>\n",
       "    </tr>\n",
       "  </tbody>\n",
       "</table>\n",
       "</div>"
      ],
      "text/plain": [
       "          ID        Name Sex   Age  Height  Weight            Team  NOC  \\\n",
       "69473  79609  Pavel Mike   G  22.0   182.0    79.0  Czechoslovakia  TCH   \n",
       "\n",
       "             Games  Year  Season    City     Sport                    Event  \\\n",
       "69473  1972 Summer  1972  Summer  Munich  Handball  Handball Men's Handball   \n",
       "\n",
       "        Medal  \n",
       "69473  Silver  "
      ]
     },
     "execution_count": 132,
     "metadata": {},
     "output_type": "execute_result"
    }
   ],
   "source": [
    "athlete_events.query(\"Sex == 'G'\")"
   ]
  },
  {
   "cell_type": "markdown",
   "id": "791860bb",
   "metadata": {},
   "source": [
    "Looks like he is a man."
   ]
  },
  {
   "cell_type": "code",
   "execution_count": 133,
   "id": "8f3215e5",
   "metadata": {},
   "outputs": [],
   "source": [
    "index_g = athlete_events.query(\"Sex == 'G'\").index"
   ]
  },
  {
   "cell_type": "code",
   "execution_count": 134,
   "id": "47ed098a",
   "metadata": {},
   "outputs": [],
   "source": [
    "athlete_events.loc[index_g, \"Sex\"] = \"M\""
   ]
  },
  {
   "cell_type": "code",
   "execution_count": 135,
   "id": "1613b90e",
   "metadata": {},
   "outputs": [
    {
     "data": {
      "text/plain": [
       "array(['M', 'F'], dtype=object)"
      ]
     },
     "execution_count": 135,
     "metadata": {},
     "output_type": "execute_result"
    }
   ],
   "source": [
    "athlete_events[\"Sex\"].unique()"
   ]
  },
  {
   "cell_type": "markdown",
   "id": "32f2f19a",
   "metadata": {},
   "source": [
    "## 3. Youngest sportswoman and sportsman"
   ]
  },
  {
   "cell_type": "code",
   "execution_count": 136,
   "id": "0a95aa33",
   "metadata": {},
   "outputs": [
    {
     "data": {
      "text/html": [
       "<div>\n",
       "<style scoped>\n",
       "    .dataframe tbody tr th:only-of-type {\n",
       "        vertical-align: middle;\n",
       "    }\n",
       "\n",
       "    .dataframe tbody tr th {\n",
       "        vertical-align: top;\n",
       "    }\n",
       "\n",
       "    .dataframe thead th {\n",
       "        text-align: right;\n",
       "    }\n",
       "</style>\n",
       "<table border=\"1\" class=\"dataframe\">\n",
       "  <thead>\n",
       "    <tr style=\"text-align: right;\">\n",
       "      <th></th>\n",
       "      <th>Age</th>\n",
       "    </tr>\n",
       "    <tr>\n",
       "      <th>Sex</th>\n",
       "      <th></th>\n",
       "    </tr>\n",
       "  </thead>\n",
       "  <tbody>\n",
       "    <tr>\n",
       "      <th>F</th>\n",
       "      <td>11.0</td>\n",
       "    </tr>\n",
       "    <tr>\n",
       "      <th>M</th>\n",
       "      <td>12.0</td>\n",
       "    </tr>\n",
       "  </tbody>\n",
       "</table>\n",
       "</div>"
      ],
      "text/plain": [
       "      Age\n",
       "Sex      \n",
       "F    11.0\n",
       "M    12.0"
      ]
     },
     "execution_count": 136,
     "metadata": {},
     "output_type": "execute_result"
    }
   ],
   "source": [
    "answer = athlete_events.groupby('Sex').agg({'Age': 'min'})\n",
    "answer"
   ]
  },
  {
   "cell_type": "code",
   "execution_count": 137,
   "id": "880e5785",
   "metadata": {},
   "outputs": [],
   "source": [
    "m = int(answer.loc['M'][0])\n",
    "f = int(answer.loc['F'][0])"
   ]
  },
  {
   "cell_type": "code",
   "execution_count": 138,
   "id": "05975e6a",
   "metadata": {},
   "outputs": [
    {
     "name": "stdout",
     "output_type": "stream",
     "text": [
      "The youngest sportswoman was 11 years old and the youngest sportsman was 12 years old.\n"
     ]
    }
   ],
   "source": [
    "print(f'The youngest sportswoman was {f} years old and the youngest sportsman was {m} years old.')"
   ]
  },
  {
   "cell_type": "markdown",
   "id": "92f010a0",
   "metadata": {},
   "source": [
    "## 4. Mean and sd of Height"
   ]
  },
  {
   "cell_type": "code",
   "execution_count": 139,
   "id": "3873a4ac",
   "metadata": {},
   "outputs": [
    {
     "data": {
      "text/html": [
       "<div>\n",
       "<style scoped>\n",
       "    .dataframe tbody tr th:only-of-type {\n",
       "        vertical-align: middle;\n",
       "    }\n",
       "\n",
       "    .dataframe tbody tr th {\n",
       "        vertical-align: top;\n",
       "    }\n",
       "\n",
       "    .dataframe thead tr th {\n",
       "        text-align: left;\n",
       "    }\n",
       "\n",
       "    .dataframe thead tr:last-of-type th {\n",
       "        text-align: right;\n",
       "    }\n",
       "</style>\n",
       "<table border=\"1\" class=\"dataframe\">\n",
       "  <thead>\n",
       "    <tr>\n",
       "      <th></th>\n",
       "      <th colspan=\"2\" halign=\"left\">Height</th>\n",
       "    </tr>\n",
       "    <tr>\n",
       "      <th></th>\n",
       "      <th>mean</th>\n",
       "      <th>std</th>\n",
       "    </tr>\n",
       "    <tr>\n",
       "      <th>Sex</th>\n",
       "      <th></th>\n",
       "      <th></th>\n",
       "    </tr>\n",
       "  </thead>\n",
       "  <tbody>\n",
       "    <tr>\n",
       "      <th>F</th>\n",
       "      <td>167.861398</td>\n",
       "      <td>8.768026</td>\n",
       "    </tr>\n",
       "    <tr>\n",
       "      <th>M</th>\n",
       "      <td>178.965490</td>\n",
       "      <td>9.367154</td>\n",
       "    </tr>\n",
       "  </tbody>\n",
       "</table>\n",
       "</div>"
      ],
      "text/plain": [
       "         Height          \n",
       "           mean       std\n",
       "Sex                      \n",
       "F    167.861398  8.768026\n",
       "M    178.965490  9.367154"
      ]
     },
     "execution_count": 139,
     "metadata": {},
     "output_type": "execute_result"
    }
   ],
   "source": [
    "athlete_events.groupby('Sex').agg({'Height': ['mean', 'std']})"
   ]
  },
  {
   "cell_type": "markdown",
   "id": "d9cf189e",
   "metadata": {},
   "source": [
    "## 5. Mean and sd of Height of female tennis players"
   ]
  },
  {
   "cell_type": "code",
   "execution_count": 140,
   "id": "902b1e8d",
   "metadata": {},
   "outputs": [
    {
     "data": {
      "text/plain": [
       "171.8"
      ]
     },
     "execution_count": 140,
     "metadata": {},
     "output_type": "execute_result"
    }
   ],
   "source": [
    "mean = athlete_events.query(\"Sex == 'F' & Year == 2000 & Sport == 'Tennis'\")[\"Height\"].mean()\n",
    "round(mean, 1)"
   ]
  },
  {
   "cell_type": "code",
   "execution_count": 141,
   "id": "3f80a5b0",
   "metadata": {},
   "outputs": [
    {
     "data": {
      "text/plain": [
       "6.5"
      ]
     },
     "execution_count": 141,
     "metadata": {},
     "output_type": "execute_result"
    }
   ],
   "source": [
    "std = athlete_events.query(\"Sex == 'F' & Year == 2000 & Sport == 'Tennis'\")[\"Height\"].std()\n",
    "round(std, 1)"
   ]
  },
  {
   "cell_type": "markdown",
   "id": "7b7c84e3",
   "metadata": {},
   "source": [
    "## 6. Heaviest athlet in 2006"
   ]
  },
  {
   "cell_type": "code",
   "execution_count": 142,
   "id": "a98f791d",
   "metadata": {},
   "outputs": [
    {
     "data": {
      "text/plain": [
       "'Skeleton'"
      ]
     },
     "execution_count": 142,
     "metadata": {},
     "output_type": "execute_result"
    }
   ],
   "source": [
    "idx_line = athlete_events.query(\"Year == 2006\")[\"Weight\"].idxmax()\n",
    "athlete_events.loc[idx_line, \"Sport\"]"
   ]
  },
  {
   "cell_type": "markdown",
   "id": "fa40f1b9",
   "metadata": {},
   "source": [
    "## 7. Gold medals women from 1980 to 2010"
   ]
  },
  {
   "cell_type": "code",
   "execution_count": 143,
   "id": "4d7d1fa3",
   "metadata": {},
   "outputs": [
    {
     "data": {
      "text/plain": [
       "2167"
      ]
     },
     "execution_count": 143,
     "metadata": {},
     "output_type": "execute_result"
    }
   ],
   "source": [
    "athlete_events.query(\"Sex == 'F' & 1980 <= Year <= 2010 & Medal == 'Gold'\").shape[0]"
   ]
  },
  {
   "cell_type": "markdown",
   "id": "ee66aa23",
   "metadata": {},
   "source": [
    "## 8. John Aalberg"
   ]
  },
  {
   "cell_type": "code",
   "execution_count": 144,
   "id": "261767a5",
   "metadata": {},
   "outputs": [
    {
     "data": {
      "text/plain": [
       "2"
      ]
     },
     "execution_count": 144,
     "metadata": {},
     "output_type": "execute_result"
    }
   ],
   "source": [
    "athlete_events.query(\"Name == 'John Aalberg'\")[\"Year\"].nunique()"
   ]
  },
  {
   "cell_type": "markdown",
   "id": "34ec6a81",
   "metadata": {},
   "source": [
    "## 9. Age groups in 2008"
   ]
  },
  {
   "cell_type": "code",
   "execution_count": 145,
   "id": "c4d186e1",
   "metadata": {},
   "outputs": [],
   "source": [
    "subset_2008 = athlete_events.query(\"Year == 2008\")"
   ]
  },
  {
   "cell_type": "code",
   "execution_count": 146,
   "id": "13fa7242",
   "metadata": {},
   "outputs": [],
   "source": [
    "age_points = [15, 25, 35, 45, 55]"
   ]
  },
  {
   "cell_type": "code",
   "execution_count": 147,
   "id": "cd0b9793",
   "metadata": {},
   "outputs": [
    {
     "name": "stdout",
     "output_type": "stream",
     "text": [
      "Nummber of sportsmen and sportswomen aged from 15 up to 25 is 4682.\n",
      "Nummber of sportsmen and sportswomen aged from 25 up to 35 is 5327.\n",
      "Nummber of sportsmen and sportswomen aged from 35 up to 45 is 619.\n",
      "Nummber of sportsmen and sportswomen aged from 45 to 55 (including) is 75.\n"
     ]
    }
   ],
   "source": [
    "for i in range(len(age_points) - 2):\n",
    "    l_b = age_points[i]\n",
    "    r_b = age_points[i+1]\n",
    "    number = subset_2008.query(\"@l_b <= Age < @r_b\")[\"ID\"].nunique()\n",
    "    print(f\"Nummber of sportsmen and sportswomen aged from {l_b} up to {r_b} is {number}.\")\n",
    "l_b = age_points[-2]\n",
    "r_b = age_points[-1]\n",
    "number = subset_2008.query(\"@l_b <= Age < @r_b\")[\"ID\"].nunique()\n",
    "print(f\"Nummber of sportsmen and sportswomen aged from {l_b} to {r_b} (including) is {number}.\")"
   ]
  },
  {
   "cell_type": "markdown",
   "id": "12aa98b1",
   "metadata": {},
   "source": [
    "There were a lot of people aged 25-35. There was few people aged 45-55."
   ]
  },
  {
   "cell_type": "markdown",
   "id": "37daa698",
   "metadata": {},
   "source": [
    "## 10. Number of sports in 1994 and 2002"
   ]
  },
  {
   "cell_type": "code",
   "execution_count": 148,
   "id": "62c76c37",
   "metadata": {},
   "outputs": [
    {
     "name": "stdout",
     "output_type": "stream",
     "text": [
      "Nummber of various sports in 2002 was 15 and in 1994 was 12. \n",
      "In 2002 there were 3 sports more.\n"
     ]
    }
   ],
   "source": [
    "sports_2002 = athlete_events.query(\"Year == 2002\")[\"Sport\"].nunique()\n",
    "sports_1994 = athlete_events.query(\"Year == 1994\")[\"Sport\"].nunique()\n",
    "difference = sports_2002 - sports_1994\n",
    "print(f\"\"\"Nummber of various sports in 2002 was {sports_2002} and in 1994 was {sports_1994}. \n",
    "In 2002 there were {difference} sports more.\"\"\")"
   ]
  },
  {
   "cell_type": "markdown",
   "id": "0adcd734",
   "metadata": {},
   "source": [
    "## 11. TOP 3 Teams"
   ]
  },
  {
   "cell_type": "code",
   "execution_count": 149,
   "id": "f57d25b0",
   "metadata": {},
   "outputs": [],
   "source": [
    "subset_medals = athlete_events.dropna()"
   ]
  },
  {
   "cell_type": "code",
   "execution_count": 150,
   "id": "c598a067",
   "metadata": {},
   "outputs": [
    {
     "data": {
      "text/plain": [
       "Season  Medal \n",
       "Summer  Bronze    USA\n",
       "        Gold      USA\n",
       "        Silver    USA\n",
       "Winter  Bronze    FIN\n",
       "        Gold      CAN\n",
       "        Silver    USA\n",
       "Name: NOC, dtype: object"
      ]
     },
     "execution_count": 150,
     "metadata": {},
     "output_type": "execute_result"
    }
   ],
   "source": [
    "subset_medals.groupby(['Season', 'Medal'])['NOC'].agg(pd.Series.mode)"
   ]
  },
  {
   "cell_type": "markdown",
   "id": "9a545498",
   "metadata": {},
   "source": [
    "## 12. Standartization"
   ]
  },
  {
   "cell_type": "code",
   "execution_count": 151,
   "id": "ba35d658",
   "metadata": {},
   "outputs": [],
   "source": [
    "height_mu = athlete_events[\"Height\"].mean()\n",
    "height_std = athlete_events[\"Height\"].std()"
   ]
  },
  {
   "cell_type": "code",
   "execution_count": 152,
   "id": "598aa9ea",
   "metadata": {},
   "outputs": [],
   "source": [
    "athlete_events[\"Height_z_scores\"] = (athlete_events[\"Height\"] - height_mu) / height_std"
   ]
  },
  {
   "cell_type": "code",
   "execution_count": 153,
   "id": "395bdb0b",
   "metadata": {},
   "outputs": [
    {
     "data": {
      "text/html": [
       "<div>\n",
       "<style scoped>\n",
       "    .dataframe tbody tr th:only-of-type {\n",
       "        vertical-align: middle;\n",
       "    }\n",
       "\n",
       "    .dataframe tbody tr th {\n",
       "        vertical-align: top;\n",
       "    }\n",
       "\n",
       "    .dataframe thead th {\n",
       "        text-align: right;\n",
       "    }\n",
       "</style>\n",
       "<table border=\"1\" class=\"dataframe\">\n",
       "  <thead>\n",
       "    <tr style=\"text-align: right;\">\n",
       "      <th></th>\n",
       "      <th>ID</th>\n",
       "      <th>Name</th>\n",
       "      <th>Sex</th>\n",
       "      <th>Age</th>\n",
       "      <th>Height</th>\n",
       "      <th>Weight</th>\n",
       "      <th>Team</th>\n",
       "      <th>NOC</th>\n",
       "      <th>Games</th>\n",
       "      <th>Year</th>\n",
       "      <th>Season</th>\n",
       "      <th>City</th>\n",
       "      <th>Sport</th>\n",
       "      <th>Event</th>\n",
       "      <th>Medal</th>\n",
       "      <th>Height_z_scores</th>\n",
       "    </tr>\n",
       "  </thead>\n",
       "  <tbody>\n",
       "    <tr>\n",
       "      <th>0</th>\n",
       "      <td>113720</td>\n",
       "      <td>Roscko Shane Specman</td>\n",
       "      <td>M</td>\n",
       "      <td>27.0</td>\n",
       "      <td>174.0</td>\n",
       "      <td>81.0</td>\n",
       "      <td>South Africa</td>\n",
       "      <td>RSA</td>\n",
       "      <td>2016 Summer</td>\n",
       "      <td>2016</td>\n",
       "      <td>Summer</td>\n",
       "      <td>Rio de Janeiro</td>\n",
       "      <td>Rugby Sevens</td>\n",
       "      <td>Rugby Sevens Men's Rugby Sevens</td>\n",
       "      <td>Bronze</td>\n",
       "      <td>-0.130117</td>\n",
       "    </tr>\n",
       "    <tr>\n",
       "      <th>1</th>\n",
       "      <td>113721</td>\n",
       "      <td>Laura Spector</td>\n",
       "      <td>F</td>\n",
       "      <td>22.0</td>\n",
       "      <td>152.0</td>\n",
       "      <td>50.0</td>\n",
       "      <td>United States</td>\n",
       "      <td>USA</td>\n",
       "      <td>2010 Winter</td>\n",
       "      <td>2010</td>\n",
       "      <td>Winter</td>\n",
       "      <td>Vancouver</td>\n",
       "      <td>Biathlon</td>\n",
       "      <td>Biathlon Women's 7.5 kilometres Sprint</td>\n",
       "      <td>NaN</td>\n",
       "      <td>-2.216238</td>\n",
       "    </tr>\n",
       "    <tr>\n",
       "      <th>2</th>\n",
       "      <td>113721</td>\n",
       "      <td>Laura Spector</td>\n",
       "      <td>F</td>\n",
       "      <td>22.0</td>\n",
       "      <td>152.0</td>\n",
       "      <td>50.0</td>\n",
       "      <td>United States</td>\n",
       "      <td>USA</td>\n",
       "      <td>2010 Winter</td>\n",
       "      <td>2010</td>\n",
       "      <td>Winter</td>\n",
       "      <td>Vancouver</td>\n",
       "      <td>Biathlon</td>\n",
       "      <td>Biathlon Women's 15 kilometres</td>\n",
       "      <td>NaN</td>\n",
       "      <td>-2.216238</td>\n",
       "    </tr>\n",
       "    <tr>\n",
       "      <th>3</th>\n",
       "      <td>113721</td>\n",
       "      <td>Laura Spector</td>\n",
       "      <td>F</td>\n",
       "      <td>22.0</td>\n",
       "      <td>152.0</td>\n",
       "      <td>50.0</td>\n",
       "      <td>United States</td>\n",
       "      <td>USA</td>\n",
       "      <td>2010 Winter</td>\n",
       "      <td>2010</td>\n",
       "      <td>Winter</td>\n",
       "      <td>Vancouver</td>\n",
       "      <td>Biathlon</td>\n",
       "      <td>Biathlon Women's 4 x 6 kilometres Relay</td>\n",
       "      <td>NaN</td>\n",
       "      <td>-2.216238</td>\n",
       "    </tr>\n",
       "    <tr>\n",
       "      <th>4</th>\n",
       "      <td>113722</td>\n",
       "      <td>Charles \"Charlie\" Spedding</td>\n",
       "      <td>M</td>\n",
       "      <td>32.0</td>\n",
       "      <td>173.0</td>\n",
       "      <td>63.0</td>\n",
       "      <td>Great Britain</td>\n",
       "      <td>GBR</td>\n",
       "      <td>1984 Summer</td>\n",
       "      <td>1984</td>\n",
       "      <td>Summer</td>\n",
       "      <td>Los Angeles</td>\n",
       "      <td>Athletics</td>\n",
       "      <td>Athletics Men's Marathon</td>\n",
       "      <td>Bronze</td>\n",
       "      <td>-0.224940</td>\n",
       "    </tr>\n",
       "  </tbody>\n",
       "</table>\n",
       "</div>"
      ],
      "text/plain": [
       "       ID                        Name Sex   Age  Height  Weight  \\\n",
       "0  113720        Roscko Shane Specman   M  27.0   174.0    81.0   \n",
       "1  113721               Laura Spector   F  22.0   152.0    50.0   \n",
       "2  113721               Laura Spector   F  22.0   152.0    50.0   \n",
       "3  113721               Laura Spector   F  22.0   152.0    50.0   \n",
       "4  113722  Charles \"Charlie\" Spedding   M  32.0   173.0    63.0   \n",
       "\n",
       "            Team  NOC        Games  Year  Season            City  \\\n",
       "0   South Africa  RSA  2016 Summer  2016  Summer  Rio de Janeiro   \n",
       "1  United States  USA  2010 Winter  2010  Winter       Vancouver   \n",
       "2  United States  USA  2010 Winter  2010  Winter       Vancouver   \n",
       "3  United States  USA  2010 Winter  2010  Winter       Vancouver   \n",
       "4  Great Britain  GBR  1984 Summer  1984  Summer     Los Angeles   \n",
       "\n",
       "          Sport                                    Event   Medal  \\\n",
       "0  Rugby Sevens          Rugby Sevens Men's Rugby Sevens  Bronze   \n",
       "1      Biathlon   Biathlon Women's 7.5 kilometres Sprint     NaN   \n",
       "2      Biathlon           Biathlon Women's 15 kilometres     NaN   \n",
       "3      Biathlon  Biathlon Women's 4 x 6 kilometres Relay     NaN   \n",
       "4     Athletics                 Athletics Men's Marathon  Bronze   \n",
       "\n",
       "   Height_z_scores  \n",
       "0        -0.130117  \n",
       "1        -2.216238  \n",
       "2        -2.216238  \n",
       "3        -2.216238  \n",
       "4        -0.224940  "
      ]
     },
     "execution_count": 153,
     "metadata": {},
     "output_type": "execute_result"
    }
   ],
   "source": [
    "athlete_events.head()"
   ]
  },
  {
   "cell_type": "markdown",
   "id": "b98213ac",
   "metadata": {},
   "source": [
    "## 13. min-max scale"
   ]
  },
  {
   "cell_type": "markdown",
   "id": "08fb54de",
   "metadata": {},
   "source": [
    "Min-max normalization gets all the scaled data in the range (0, 1)"
   ]
  },
  {
   "cell_type": "code",
   "execution_count": 154,
   "id": "cadea50e",
   "metadata": {},
   "outputs": [],
   "source": [
    "height_min = athlete_events[\"Height\"].min()\n",
    "height_max = athlete_events[\"Height\"].max()"
   ]
  },
  {
   "cell_type": "code",
   "execution_count": 155,
   "id": "f9dbc731",
   "metadata": {},
   "outputs": [
    {
     "data": {
      "text/plain": [
       "(226.0, 127.0)"
      ]
     },
     "execution_count": 155,
     "metadata": {},
     "output_type": "execute_result"
    }
   ],
   "source": [
    "height_max, height_min"
   ]
  },
  {
   "cell_type": "code",
   "execution_count": 156,
   "id": "cf77fe15",
   "metadata": {},
   "outputs": [],
   "source": [
    "athlete_events[\"Height_min_max_scaled\"] = (athlete_events[\"Height\"] - height_min)/(height_max - height_min)"
   ]
  },
  {
   "cell_type": "code",
   "execution_count": 157,
   "id": "58327b21",
   "metadata": {},
   "outputs": [
    {
     "data": {
      "text/html": [
       "<div>\n",
       "<style scoped>\n",
       "    .dataframe tbody tr th:only-of-type {\n",
       "        vertical-align: middle;\n",
       "    }\n",
       "\n",
       "    .dataframe tbody tr th {\n",
       "        vertical-align: top;\n",
       "    }\n",
       "\n",
       "    .dataframe thead th {\n",
       "        text-align: right;\n",
       "    }\n",
       "</style>\n",
       "<table border=\"1\" class=\"dataframe\">\n",
       "  <thead>\n",
       "    <tr style=\"text-align: right;\">\n",
       "      <th></th>\n",
       "      <th>ID</th>\n",
       "      <th>Name</th>\n",
       "      <th>Sex</th>\n",
       "      <th>Age</th>\n",
       "      <th>Height</th>\n",
       "      <th>Weight</th>\n",
       "      <th>Team</th>\n",
       "      <th>NOC</th>\n",
       "      <th>Games</th>\n",
       "      <th>Year</th>\n",
       "      <th>Season</th>\n",
       "      <th>City</th>\n",
       "      <th>Sport</th>\n",
       "      <th>Event</th>\n",
       "      <th>Medal</th>\n",
       "      <th>Height_z_scores</th>\n",
       "      <th>Height_min_max_scaled</th>\n",
       "    </tr>\n",
       "  </thead>\n",
       "  <tbody>\n",
       "    <tr>\n",
       "      <th>0</th>\n",
       "      <td>113720</td>\n",
       "      <td>Roscko Shane Specman</td>\n",
       "      <td>M</td>\n",
       "      <td>27.0</td>\n",
       "      <td>174.0</td>\n",
       "      <td>81.0</td>\n",
       "      <td>South Africa</td>\n",
       "      <td>RSA</td>\n",
       "      <td>2016 Summer</td>\n",
       "      <td>2016</td>\n",
       "      <td>Summer</td>\n",
       "      <td>Rio de Janeiro</td>\n",
       "      <td>Rugby Sevens</td>\n",
       "      <td>Rugby Sevens Men's Rugby Sevens</td>\n",
       "      <td>Bronze</td>\n",
       "      <td>-0.130117</td>\n",
       "      <td>0.474747</td>\n",
       "    </tr>\n",
       "    <tr>\n",
       "      <th>1</th>\n",
       "      <td>113721</td>\n",
       "      <td>Laura Spector</td>\n",
       "      <td>F</td>\n",
       "      <td>22.0</td>\n",
       "      <td>152.0</td>\n",
       "      <td>50.0</td>\n",
       "      <td>United States</td>\n",
       "      <td>USA</td>\n",
       "      <td>2010 Winter</td>\n",
       "      <td>2010</td>\n",
       "      <td>Winter</td>\n",
       "      <td>Vancouver</td>\n",
       "      <td>Biathlon</td>\n",
       "      <td>Biathlon Women's 7.5 kilometres Sprint</td>\n",
       "      <td>NaN</td>\n",
       "      <td>-2.216238</td>\n",
       "      <td>0.252525</td>\n",
       "    </tr>\n",
       "    <tr>\n",
       "      <th>2</th>\n",
       "      <td>113721</td>\n",
       "      <td>Laura Spector</td>\n",
       "      <td>F</td>\n",
       "      <td>22.0</td>\n",
       "      <td>152.0</td>\n",
       "      <td>50.0</td>\n",
       "      <td>United States</td>\n",
       "      <td>USA</td>\n",
       "      <td>2010 Winter</td>\n",
       "      <td>2010</td>\n",
       "      <td>Winter</td>\n",
       "      <td>Vancouver</td>\n",
       "      <td>Biathlon</td>\n",
       "      <td>Biathlon Women's 15 kilometres</td>\n",
       "      <td>NaN</td>\n",
       "      <td>-2.216238</td>\n",
       "      <td>0.252525</td>\n",
       "    </tr>\n",
       "    <tr>\n",
       "      <th>3</th>\n",
       "      <td>113721</td>\n",
       "      <td>Laura Spector</td>\n",
       "      <td>F</td>\n",
       "      <td>22.0</td>\n",
       "      <td>152.0</td>\n",
       "      <td>50.0</td>\n",
       "      <td>United States</td>\n",
       "      <td>USA</td>\n",
       "      <td>2010 Winter</td>\n",
       "      <td>2010</td>\n",
       "      <td>Winter</td>\n",
       "      <td>Vancouver</td>\n",
       "      <td>Biathlon</td>\n",
       "      <td>Biathlon Women's 4 x 6 kilometres Relay</td>\n",
       "      <td>NaN</td>\n",
       "      <td>-2.216238</td>\n",
       "      <td>0.252525</td>\n",
       "    </tr>\n",
       "    <tr>\n",
       "      <th>4</th>\n",
       "      <td>113722</td>\n",
       "      <td>Charles \"Charlie\" Spedding</td>\n",
       "      <td>M</td>\n",
       "      <td>32.0</td>\n",
       "      <td>173.0</td>\n",
       "      <td>63.0</td>\n",
       "      <td>Great Britain</td>\n",
       "      <td>GBR</td>\n",
       "      <td>1984 Summer</td>\n",
       "      <td>1984</td>\n",
       "      <td>Summer</td>\n",
       "      <td>Los Angeles</td>\n",
       "      <td>Athletics</td>\n",
       "      <td>Athletics Men's Marathon</td>\n",
       "      <td>Bronze</td>\n",
       "      <td>-0.224940</td>\n",
       "      <td>0.464646</td>\n",
       "    </tr>\n",
       "  </tbody>\n",
       "</table>\n",
       "</div>"
      ],
      "text/plain": [
       "       ID                        Name Sex   Age  Height  Weight  \\\n",
       "0  113720        Roscko Shane Specman   M  27.0   174.0    81.0   \n",
       "1  113721               Laura Spector   F  22.0   152.0    50.0   \n",
       "2  113721               Laura Spector   F  22.0   152.0    50.0   \n",
       "3  113721               Laura Spector   F  22.0   152.0    50.0   \n",
       "4  113722  Charles \"Charlie\" Spedding   M  32.0   173.0    63.0   \n",
       "\n",
       "            Team  NOC        Games  Year  Season            City  \\\n",
       "0   South Africa  RSA  2016 Summer  2016  Summer  Rio de Janeiro   \n",
       "1  United States  USA  2010 Winter  2010  Winter       Vancouver   \n",
       "2  United States  USA  2010 Winter  2010  Winter       Vancouver   \n",
       "3  United States  USA  2010 Winter  2010  Winter       Vancouver   \n",
       "4  Great Britain  GBR  1984 Summer  1984  Summer     Los Angeles   \n",
       "\n",
       "          Sport                                    Event   Medal  \\\n",
       "0  Rugby Sevens          Rugby Sevens Men's Rugby Sevens  Bronze   \n",
       "1      Biathlon   Biathlon Women's 7.5 kilometres Sprint     NaN   \n",
       "2      Biathlon           Biathlon Women's 15 kilometres     NaN   \n",
       "3      Biathlon  Biathlon Women's 4 x 6 kilometres Relay     NaN   \n",
       "4     Athletics                 Athletics Men's Marathon  Bronze   \n",
       "\n",
       "   Height_z_scores  Height_min_max_scaled  \n",
       "0        -0.130117               0.474747  \n",
       "1        -2.216238               0.252525  \n",
       "2        -2.216238               0.252525  \n",
       "3        -2.216238               0.252525  \n",
       "4        -0.224940               0.464646  "
      ]
     },
     "execution_count": 157,
     "metadata": {},
     "output_type": "execute_result"
    }
   ],
   "source": [
    "athlete_events.head()"
   ]
  },
  {
   "cell_type": "markdown",
   "id": "1184e895",
   "metadata": {},
   "source": [
    "## 14. Height, weight, age of men and women in winter season"
   ]
  },
  {
   "cell_type": "code",
   "execution_count": 158,
   "id": "f149d525",
   "metadata": {},
   "outputs": [],
   "source": [
    "winter_subset = athlete_events.query(\"Season == 'Winter'\")[['Sex', 'Age', 'Height', 'Weight']]"
   ]
  },
  {
   "cell_type": "code",
   "execution_count": 159,
   "id": "d3a9bb16",
   "metadata": {},
   "outputs": [],
   "source": [
    "winter_f_subset = winter_subset.query('Sex == \"F\"')"
   ]
  },
  {
   "cell_type": "code",
   "execution_count": 160,
   "id": "e36c656c",
   "metadata": {},
   "outputs": [],
   "source": [
    "winter_m_subset = winter_subset.query('Sex == \"M\"')"
   ]
  },
  {
   "cell_type": "code",
   "execution_count": 161,
   "id": "573a24f9",
   "metadata": {},
   "outputs": [
    {
     "name": "stderr",
     "output_type": "stream",
     "text": [
      "/tmp/ipykernel_11623/1667808741.py:1: FutureWarning: The default value of numeric_only in DataFrame.var is deprecated. In a future version, it will default to False. In addition, specifying 'numeric_only=None' is deprecated. Select only valid columns or specify the value of numeric_only to silence this warning.\n",
      "  winter_f_subset.var()\n"
     ]
    },
    {
     "data": {
      "text/plain": [
       "Age       21.610360\n",
       "Height    36.302927\n",
       "Weight    49.849714\n",
       "dtype: float64"
      ]
     },
     "execution_count": 161,
     "metadata": {},
     "output_type": "execute_result"
    }
   ],
   "source": [
    "winter_f_subset.var()"
   ]
  },
  {
   "cell_type": "code",
   "execution_count": 162,
   "id": "fc9c5855",
   "metadata": {},
   "outputs": [
    {
     "name": "stderr",
     "output_type": "stream",
     "text": [
      "/tmp/ipykernel_11623/2487865247.py:1: FutureWarning: The default value of numeric_only in DataFrame.var is deprecated. In a future version, it will default to False. In addition, specifying 'numeric_only=None' is deprecated. Select only valid columns or specify the value of numeric_only to silence this warning.\n",
      "  winter_m_subset.var()\n"
     ]
    },
    {
     "data": {
      "text/plain": [
       "Age        20.918041\n",
       "Height     43.061905\n",
       "Weight    106.165993\n",
       "dtype: float64"
      ]
     },
     "execution_count": 162,
     "metadata": {},
     "output_type": "execute_result"
    }
   ],
   "source": [
    "winter_m_subset.var()"
   ]
  },
  {
   "cell_type": "markdown",
   "id": "d81b860d",
   "metadata": {},
   "source": [
    "The number of observations is quite big, so we ca use T-test. We can use independant T-test because our two samples are independant."
   ]
  },
  {
   "cell_type": "code",
   "execution_count": 163,
   "id": "cde0d377",
   "metadata": {},
   "outputs": [
    {
     "data": {
      "text/plain": [
       "Ttest_indResult(statistic=-25.18013621336959, pvalue=8.284580329528672e-139)"
      ]
     },
     "execution_count": 163,
     "metadata": {},
     "output_type": "execute_result"
    }
   ],
   "source": [
    "ttest_ind(winter_f_subset['Age'], winter_m_subset['Age'])"
   ]
  },
  {
   "cell_type": "code",
   "execution_count": 164,
   "id": "05260257",
   "metadata": {},
   "outputs": [],
   "source": [
    "rcParams['figure.figsize'] = 11.7,8.27\n",
    "rcParams['font.size'] =  22"
   ]
  },
  {
   "cell_type": "code",
   "execution_count": 165,
   "id": "cd182541",
   "metadata": {},
   "outputs": [
    {
     "data": {
      "image/png": "[encoded data removed]",
      "text/plain": [
       "<Figure size 1170x827 with 1 Axes>"
      ]
     },
     "metadata": {},
     "output_type": "display_data"
    }
   ],
   "source": [
    "age_fig = sns.boxplot(x=winter_subset['Sex'], y=winter_subset['Age'])\n",
    "plt.axhline(60, linewidth=2, color='black', xmin=0.25, xmax=0.75)\n",
    "plt.ylim(7, 70)\n",
    "plt.text(0.25, 62, \"p-value << 0.05\", fontsize=20, color='black');"
   ]
  },
  {
   "cell_type": "code",
   "execution_count": 166,
   "id": "d5db1e14",
   "metadata": {},
   "outputs": [],
   "source": [
    "#age_fig.figure.savefig(\"age.png\")"
   ]
  },
  {
   "cell_type": "code",
   "execution_count": 167,
   "id": "67440190",
   "metadata": {},
   "outputs": [
    {
     "data": {
      "text/plain": [
       "Ttest_indResult(statistic=-179.06226056048396, pvalue=0.0)"
      ]
     },
     "execution_count": 167,
     "metadata": {},
     "output_type": "execute_result"
    }
   ],
   "source": [
    "ttest_ind(winter_f_subset['Height'], winter_m_subset['Height'])"
   ]
  },
  {
   "cell_type": "code",
   "execution_count": 168,
   "id": "94f03310",
   "metadata": {},
   "outputs": [
    {
     "data": {
      "image/png": "[encoded data removed]",
      "text/plain": [
       "<Figure size 1170x827 with 1 Axes>"
      ]
     },
     "metadata": {},
     "output_type": "display_data"
    }
   ],
   "source": [
    "height_fig = sns.boxplot(x=winter_subset['Sex'], y=winter_subset['Height'])\n",
    "plt.axhline(210, linewidth=2, color='black', xmin=0.25, xmax=0.75)\n",
    "plt.ylim(130, 220)\n",
    "plt.text(0.25, 215, \"p-value << 0.05\", fontsize=20, color='black');"
   ]
  },
  {
   "cell_type": "code",
   "execution_count": 169,
   "id": "12f67a80",
   "metadata": {},
   "outputs": [],
   "source": [
    "#height_fig.figure.savefig(\"height.png\")"
   ]
  },
  {
   "cell_type": "code",
   "execution_count": 170,
   "id": "61367632",
   "metadata": {},
   "outputs": [
    {
     "data": {
      "text/plain": [
       "Ttest_indResult(statistic=-188.05451036561354, pvalue=0.0)"
      ]
     },
     "execution_count": 170,
     "metadata": {},
     "output_type": "execute_result"
    }
   ],
   "source": [
    "ttest_ind(winter_f_subset['Weight'], winter_m_subset['Weight'], equal_var=False)"
   ]
  },
  {
   "cell_type": "code",
   "execution_count": 171,
   "id": "8a06ba6e",
   "metadata": {},
   "outputs": [
    {
     "data": {
      "image/png": "[encoded data removed]",
      "text/plain": [
       "<Figure size 1170x827 with 1 Axes>"
      ]
     },
     "metadata": {},
     "output_type": "display_data"
    }
   ],
   "source": [
    "weight_fig = sns.boxplot(x=winter_subset['Sex'], y=winter_subset['Weight'])\n",
    "plt.axhline(130, linewidth=2, color='black', xmin=0.25, xmax=0.75)\n",
    "plt.ylim(30, 140)\n",
    "plt.text(0.25, 132, \"p-value << 0.05\", fontsize=20, color='black');"
   ]
  },
  {
   "cell_type": "code",
   "execution_count": 172,
   "id": "66c49361",
   "metadata": {},
   "outputs": [],
   "source": [
    "#weight_fig.figure.savefig(\"weight.png\")"
   ]
  },
  {
   "cell_type": "markdown",
   "id": "8fc72516",
   "metadata": {},
   "source": [
    "Men were older, taller and heavier."
   ]
  },
  {
   "cell_type": "markdown",
   "id": "73bbdcac",
   "metadata": {},
   "source": [
    "## 15. Team and medal"
   ]
  },
  {
   "cell_type": "markdown",
   "id": "037914fb",
   "metadata": {},
   "source": [
    "Well, of course they are connected, because different teams have different number of medals..."
   ]
  },
  {
   "cell_type": "code",
   "execution_count": 173,
   "id": "515855b4",
   "metadata": {},
   "outputs": [],
   "source": [
    "gold_madals = athlete_events.query(\"Medal == 'Gold'\")"
   ]
  },
  {
   "cell_type": "code",
   "execution_count": 174,
   "id": "5ae2653f",
   "metadata": {},
   "outputs": [],
   "source": [
    "gold_madals = gold_madals.groupby('Team').agg({'Medal': 'value_counts'})"
   ]
  },
  {
   "cell_type": "code",
   "execution_count": 175,
   "id": "9f29c554",
   "metadata": {},
   "outputs": [],
   "source": [
    "gold_madals = gold_madals.rename(columns={'Medal':'Gold_medals'})"
   ]
  },
  {
   "cell_type": "code",
   "execution_count": 176,
   "id": "e4304a42",
   "metadata": {},
   "outputs": [],
   "source": [
    "gold_madals = gold_madals.reset_index().drop('Medal', axis=1)"
   ]
  },
  {
   "cell_type": "code",
   "execution_count": 177,
   "id": "77b75ee3",
   "metadata": {},
   "outputs": [
    {
     "data": {
      "text/html": [
       "<div>\n",
       "<style scoped>\n",
       "    .dataframe tbody tr th:only-of-type {\n",
       "        vertical-align: middle;\n",
       "    }\n",
       "\n",
       "    .dataframe tbody tr th {\n",
       "        vertical-align: top;\n",
       "    }\n",
       "\n",
       "    .dataframe thead th {\n",
       "        text-align: right;\n",
       "    }\n",
       "</style>\n",
       "<table border=\"1\" class=\"dataframe\">\n",
       "  <thead>\n",
       "    <tr style=\"text-align: right;\">\n",
       "      <th></th>\n",
       "      <th>Team</th>\n",
       "      <th>Gold_medals</th>\n",
       "    </tr>\n",
       "  </thead>\n",
       "  <tbody>\n",
       "    <tr>\n",
       "      <th>0</th>\n",
       "      <td>Algeria</td>\n",
       "      <td>5</td>\n",
       "    </tr>\n",
       "    <tr>\n",
       "      <th>1</th>\n",
       "      <td>Amateur Athletic Association</td>\n",
       "      <td>2</td>\n",
       "    </tr>\n",
       "    <tr>\n",
       "      <th>2</th>\n",
       "      <td>Argentina</td>\n",
       "      <td>72</td>\n",
       "    </tr>\n",
       "    <tr>\n",
       "      <th>3</th>\n",
       "      <td>Armenia</td>\n",
       "      <td>2</td>\n",
       "    </tr>\n",
       "    <tr>\n",
       "      <th>4</th>\n",
       "      <td>Australia</td>\n",
       "      <td>313</td>\n",
       "    </tr>\n",
       "    <tr>\n",
       "      <th>...</th>\n",
       "      <td>...</td>\n",
       "      <td>...</td>\n",
       "    </tr>\n",
       "    <tr>\n",
       "      <th>152</th>\n",
       "      <td>West Germany-2</td>\n",
       "      <td>2</td>\n",
       "    </tr>\n",
       "    <tr>\n",
       "      <th>153</th>\n",
       "      <td>White Lady</td>\n",
       "      <td>3</td>\n",
       "    </tr>\n",
       "    <tr>\n",
       "      <th>154</th>\n",
       "      <td>Winnipeg Shamrocks-1</td>\n",
       "      <td>2</td>\n",
       "    </tr>\n",
       "    <tr>\n",
       "      <th>155</th>\n",
       "      <td>Yugoslavia</td>\n",
       "      <td>122</td>\n",
       "    </tr>\n",
       "    <tr>\n",
       "      <th>156</th>\n",
       "      <td>Zimbabwe</td>\n",
       "      <td>17</td>\n",
       "    </tr>\n",
       "  </tbody>\n",
       "</table>\n",
       "<p>157 rows × 2 columns</p>\n",
       "</div>"
      ],
      "text/plain": [
       "                             Team  Gold_medals\n",
       "0                         Algeria            5\n",
       "1    Amateur Athletic Association            2\n",
       "2                       Argentina           72\n",
       "3                         Armenia            2\n",
       "4                       Australia          313\n",
       "..                            ...          ...\n",
       "152                West Germany-2            2\n",
       "153                    White Lady            3\n",
       "154          Winnipeg Shamrocks-1            2\n",
       "155                    Yugoslavia          122\n",
       "156                      Zimbabwe           17\n",
       "\n",
       "[157 rows x 2 columns]"
      ]
     },
     "execution_count": 177,
     "metadata": {},
     "output_type": "execute_result"
    }
   ],
   "source": [
    "gold_madals"
   ]
  },
  {
   "cell_type": "code",
   "execution_count": 178,
   "id": "ee5e3d8c",
   "metadata": {},
   "outputs": [],
   "source": [
    "all_medals = subset_medals.groupby('Team').agg({'Medal': 'count'})"
   ]
  },
  {
   "cell_type": "code",
   "execution_count": 179,
   "id": "903cf7c9",
   "metadata": {},
   "outputs": [],
   "source": [
    "all_medals = all_medals.reset_index().rename(columns={'Medal':'Total_medals'})"
   ]
  },
  {
   "cell_type": "code",
   "execution_count": 180,
   "id": "6eab5a8a",
   "metadata": {},
   "outputs": [
    {
     "data": {
      "text/html": [
       "<div>\n",
       "<style scoped>\n",
       "    .dataframe tbody tr th:only-of-type {\n",
       "        vertical-align: middle;\n",
       "    }\n",
       "\n",
       "    .dataframe tbody tr th {\n",
       "        vertical-align: top;\n",
       "    }\n",
       "\n",
       "    .dataframe thead th {\n",
       "        text-align: right;\n",
       "    }\n",
       "</style>\n",
       "<table border=\"1\" class=\"dataframe\">\n",
       "  <thead>\n",
       "    <tr style=\"text-align: right;\">\n",
       "      <th></th>\n",
       "      <th>Team</th>\n",
       "      <th>Total_medals</th>\n",
       "    </tr>\n",
       "  </thead>\n",
       "  <tbody>\n",
       "    <tr>\n",
       "      <th>0</th>\n",
       "      <td>Afghanistan</td>\n",
       "      <td>2</td>\n",
       "    </tr>\n",
       "    <tr>\n",
       "      <th>1</th>\n",
       "      <td>Algeria</td>\n",
       "      <td>15</td>\n",
       "    </tr>\n",
       "    <tr>\n",
       "      <th>2</th>\n",
       "      <td>Amateur Athletic Association</td>\n",
       "      <td>2</td>\n",
       "    </tr>\n",
       "    <tr>\n",
       "      <th>3</th>\n",
       "      <td>Aphrodite</td>\n",
       "      <td>3</td>\n",
       "    </tr>\n",
       "    <tr>\n",
       "      <th>4</th>\n",
       "      <td>Argentina</td>\n",
       "      <td>216</td>\n",
       "    </tr>\n",
       "    <tr>\n",
       "      <th>...</th>\n",
       "      <td>...</td>\n",
       "      <td>...</td>\n",
       "    </tr>\n",
       "    <tr>\n",
       "      <th>258</th>\n",
       "      <td>Widgeon</td>\n",
       "      <td>2</td>\n",
       "    </tr>\n",
       "    <tr>\n",
       "      <th>259</th>\n",
       "      <td>Winnipeg Shamrocks-1</td>\n",
       "      <td>2</td>\n",
       "    </tr>\n",
       "    <tr>\n",
       "      <th>260</th>\n",
       "      <td>Yugoslavia</td>\n",
       "      <td>321</td>\n",
       "    </tr>\n",
       "    <tr>\n",
       "      <th>261</th>\n",
       "      <td>Zambia</td>\n",
       "      <td>1</td>\n",
       "    </tr>\n",
       "    <tr>\n",
       "      <th>262</th>\n",
       "      <td>Zimbabwe</td>\n",
       "      <td>22</td>\n",
       "    </tr>\n",
       "  </tbody>\n",
       "</table>\n",
       "<p>263 rows × 2 columns</p>\n",
       "</div>"
      ],
      "text/plain": [
       "                             Team  Total_medals\n",
       "0                     Afghanistan             2\n",
       "1                         Algeria            15\n",
       "2    Amateur Athletic Association             2\n",
       "3                       Aphrodite             3\n",
       "4                       Argentina           216\n",
       "..                            ...           ...\n",
       "258                       Widgeon             2\n",
       "259          Winnipeg Shamrocks-1             2\n",
       "260                    Yugoslavia           321\n",
       "261                        Zambia             1\n",
       "262                      Zimbabwe            22\n",
       "\n",
       "[263 rows x 2 columns]"
      ]
     },
     "execution_count": 180,
     "metadata": {},
     "output_type": "execute_result"
    }
   ],
   "source": [
    "all_medals"
   ]
  },
  {
   "cell_type": "code",
   "execution_count": 181,
   "id": "1865aabc",
   "metadata": {},
   "outputs": [],
   "source": [
    "merged_medals = all_medals.merge(gold_madals, how='outer').fillna(0)"
   ]
  },
  {
   "cell_type": "code",
   "execution_count": 182,
   "id": "110de203",
   "metadata": {},
   "outputs": [],
   "source": [
    "merged_medals['Gold_medals'] = merged_medals['Gold_medals'].astype('int64')"
   ]
  },
  {
   "cell_type": "code",
   "execution_count": 183,
   "id": "08c7df9e",
   "metadata": {},
   "outputs": [
    {
     "data": {
      "text/html": [
       "<div>\n",
       "<style scoped>\n",
       "    .dataframe tbody tr th:only-of-type {\n",
       "        vertical-align: middle;\n",
       "    }\n",
       "\n",
       "    .dataframe tbody tr th {\n",
       "        vertical-align: top;\n",
       "    }\n",
       "\n",
       "    .dataframe thead th {\n",
       "        text-align: right;\n",
       "    }\n",
       "</style>\n",
       "<table border=\"1\" class=\"dataframe\">\n",
       "  <thead>\n",
       "    <tr style=\"text-align: right;\">\n",
       "      <th></th>\n",
       "      <th>Team</th>\n",
       "      <th>Total_medals</th>\n",
       "      <th>Gold_medals</th>\n",
       "    </tr>\n",
       "  </thead>\n",
       "  <tbody>\n",
       "    <tr>\n",
       "      <th>0</th>\n",
       "      <td>Afghanistan</td>\n",
       "      <td>2</td>\n",
       "      <td>0</td>\n",
       "    </tr>\n",
       "    <tr>\n",
       "      <th>1</th>\n",
       "      <td>Algeria</td>\n",
       "      <td>15</td>\n",
       "      <td>5</td>\n",
       "    </tr>\n",
       "    <tr>\n",
       "      <th>2</th>\n",
       "      <td>Amateur Athletic Association</td>\n",
       "      <td>2</td>\n",
       "      <td>2</td>\n",
       "    </tr>\n",
       "    <tr>\n",
       "      <th>3</th>\n",
       "      <td>Aphrodite</td>\n",
       "      <td>3</td>\n",
       "      <td>0</td>\n",
       "    </tr>\n",
       "    <tr>\n",
       "      <th>4</th>\n",
       "      <td>Argentina</td>\n",
       "      <td>216</td>\n",
       "      <td>72</td>\n",
       "    </tr>\n",
       "    <tr>\n",
       "      <th>...</th>\n",
       "      <td>...</td>\n",
       "      <td>...</td>\n",
       "      <td>...</td>\n",
       "    </tr>\n",
       "    <tr>\n",
       "      <th>258</th>\n",
       "      <td>Widgeon</td>\n",
       "      <td>2</td>\n",
       "      <td>0</td>\n",
       "    </tr>\n",
       "    <tr>\n",
       "      <th>259</th>\n",
       "      <td>Winnipeg Shamrocks-1</td>\n",
       "      <td>2</td>\n",
       "      <td>2</td>\n",
       "    </tr>\n",
       "    <tr>\n",
       "      <th>260</th>\n",
       "      <td>Yugoslavia</td>\n",
       "      <td>321</td>\n",
       "      <td>122</td>\n",
       "    </tr>\n",
       "    <tr>\n",
       "      <th>261</th>\n",
       "      <td>Zambia</td>\n",
       "      <td>1</td>\n",
       "      <td>0</td>\n",
       "    </tr>\n",
       "    <tr>\n",
       "      <th>262</th>\n",
       "      <td>Zimbabwe</td>\n",
       "      <td>22</td>\n",
       "      <td>17</td>\n",
       "    </tr>\n",
       "  </tbody>\n",
       "</table>\n",
       "<p>263 rows × 3 columns</p>\n",
       "</div>"
      ],
      "text/plain": [
       "                             Team  Total_medals  Gold_medals\n",
       "0                     Afghanistan             2            0\n",
       "1                         Algeria            15            5\n",
       "2    Amateur Athletic Association             2            2\n",
       "3                       Aphrodite             3            0\n",
       "4                       Argentina           216           72\n",
       "..                            ...           ...          ...\n",
       "258                       Widgeon             2            0\n",
       "259          Winnipeg Shamrocks-1             2            2\n",
       "260                    Yugoslavia           321          122\n",
       "261                        Zambia             1            0\n",
       "262                      Zimbabwe            22           17\n",
       "\n",
       "[263 rows x 3 columns]"
      ]
     },
     "execution_count": 183,
     "metadata": {},
     "output_type": "execute_result"
    }
   ],
   "source": [
    "merged_medals"
   ]
  },
  {
   "cell_type": "code",
   "execution_count": 184,
   "id": "75788cfc",
   "metadata": {},
   "outputs": [],
   "source": [
    "sorted_medals = merged_medals.sort_values('Total_medals', ascending=False)"
   ]
  },
  {
   "cell_type": "code",
   "execution_count": 185,
   "id": "33540bd6",
   "metadata": {},
   "outputs": [
    {
     "data": {
      "text/html": [
       "<div>\n",
       "<style scoped>\n",
       "    .dataframe tbody tr th:only-of-type {\n",
       "        vertical-align: middle;\n",
       "    }\n",
       "\n",
       "    .dataframe tbody tr th {\n",
       "        vertical-align: top;\n",
       "    }\n",
       "\n",
       "    .dataframe thead th {\n",
       "        text-align: right;\n",
       "    }\n",
       "</style>\n",
       "<table border=\"1\" class=\"dataframe\">\n",
       "  <thead>\n",
       "    <tr style=\"text-align: right;\">\n",
       "      <th></th>\n",
       "      <th>Team</th>\n",
       "      <th>Total_medals</th>\n",
       "      <th>Gold_medals</th>\n",
       "    </tr>\n",
       "  </thead>\n",
       "  <tbody>\n",
       "    <tr>\n",
       "      <th>243</th>\n",
       "      <td>United States</td>\n",
       "      <td>4273</td>\n",
       "      <td>2075</td>\n",
       "    </tr>\n",
       "    <tr>\n",
       "      <th>205</th>\n",
       "      <td>Soviet Union</td>\n",
       "      <td>2203</td>\n",
       "      <td>961</td>\n",
       "    </tr>\n",
       "    <tr>\n",
       "      <th>83</th>\n",
       "      <td>Germany</td>\n",
       "      <td>1518</td>\n",
       "      <td>508</td>\n",
       "    </tr>\n",
       "    <tr>\n",
       "      <th>8</th>\n",
       "      <td>Australia</td>\n",
       "      <td>1196</td>\n",
       "      <td>313</td>\n",
       "    </tr>\n",
       "    <tr>\n",
       "      <th>184</th>\n",
       "      <td>Russia</td>\n",
       "      <td>1091</td>\n",
       "      <td>356</td>\n",
       "    </tr>\n",
       "    <tr>\n",
       "      <th>...</th>\n",
       "      <td>...</td>\n",
       "      <td>...</td>\n",
       "      <td>...</td>\n",
       "    </tr>\n",
       "    <tr>\n",
       "      <th>180</th>\n",
       "      <td>Rose Pompon</td>\n",
       "      <td>1</td>\n",
       "      <td>0</td>\n",
       "    </tr>\n",
       "    <tr>\n",
       "      <th>95</th>\n",
       "      <td>Haiti</td>\n",
       "      <td>1</td>\n",
       "      <td>0</td>\n",
       "    </tr>\n",
       "    <tr>\n",
       "      <th>94</th>\n",
       "      <td>Guyana</td>\n",
       "      <td>1</td>\n",
       "      <td>0</td>\n",
       "    </tr>\n",
       "    <tr>\n",
       "      <th>93</th>\n",
       "      <td>Guatemala</td>\n",
       "      <td>1</td>\n",
       "      <td>0</td>\n",
       "    </tr>\n",
       "    <tr>\n",
       "      <th>131</th>\n",
       "      <td>London City Police-1</td>\n",
       "      <td>1</td>\n",
       "      <td>1</td>\n",
       "    </tr>\n",
       "  </tbody>\n",
       "</table>\n",
       "<p>263 rows × 3 columns</p>\n",
       "</div>"
      ],
      "text/plain": [
       "                     Team  Total_medals  Gold_medals\n",
       "243         United States          4273         2075\n",
       "205          Soviet Union          2203          961\n",
       "83                Germany          1518          508\n",
       "8               Australia          1196          313\n",
       "184                Russia          1091          356\n",
       "..                    ...           ...          ...\n",
       "180           Rose Pompon             1            0\n",
       "95                  Haiti             1            0\n",
       "94                 Guyana             1            0\n",
       "93              Guatemala             1            0\n",
       "131  London City Police-1             1            1\n",
       "\n",
       "[263 rows x 3 columns]"
      ]
     },
     "execution_count": 185,
     "metadata": {},
     "output_type": "execute_result"
    }
   ],
   "source": [
    "sorted_medals"
   ]
  },
  {
   "cell_type": "code",
   "execution_count": 186,
   "id": "7e5e53fd",
   "metadata": {},
   "outputs": [
    {
     "data": {
      "text/plain": [
       "Text(818, 408, 'Germany')"
      ]
     },
     "execution_count": 186,
     "metadata": {},
     "output_type": "execute_result"
    },
    {
     "data": {
      "image/png": "[encoded data removed]",
      "text/plain": [
       "<Figure size 1170x827 with 1 Axes>"
      ]
     },
     "metadata": {},
     "output_type": "display_data"
    }
   ],
   "source": [
    "plt.scatter(merged_medals['Total_medals'], merged_medals['Gold_medals'])\n",
    "plt.xlabel(\"Number of all medals\")\n",
    "plt.ylabel(\"Number of gold medals\")\n",
    "\n",
    "plt.text(sorted_medals.iloc[0, 1] - 1000, sorted_medals.iloc[0, 2] - 100, sorted_medals.iloc[0, 0])\n",
    "plt.text(sorted_medals.iloc[1, 1] - 900, sorted_medals.iloc[1, 2] - 100, sorted_medals.iloc[1, 0])\n",
    "plt.text(sorted_medals.iloc[2, 1] - 700, sorted_medals.iloc[2, 2] - 100, sorted_medals.iloc[2, 0])"
   ]
  },
  {
   "cell_type": "markdown",
   "id": "4bd62a90",
   "metadata": {},
   "source": [
    "## 16. Some hypotheses"
   ]
  },
  {
   "cell_type": "markdown",
   "id": "a666fd39",
   "metadata": {},
   "source": [
    "### Difference in height in two different sports"
   ]
  },
  {
   "cell_type": "code",
   "execution_count": 187,
   "id": "3efe3f95",
   "metadata": {},
   "outputs": [
    {
     "data": {
      "text/plain": [
       "array(['Rugby Sevens', 'Biathlon', 'Athletics', 'Softball', 'Cycling',\n",
       "       'Cross Country Skiing', 'Equestrianism', 'Snowboarding',\n",
       "       'Alpine Skiing', 'Shooting', 'Canoeing', 'Handball', 'Boxing',\n",
       "       'Bobsleigh', 'Modern Pentathlon', 'Hockey', 'Gymnastics', 'Tennis',\n",
       "       'Swimming', 'Baseball', 'Fencing', 'Sailing', 'Football', 'Diving',\n",
       "       'Rowing', 'Badminton', 'Ice Hockey', 'Freestyle Skiing',\n",
       "       'Figure Skating', 'Speed Skating', 'Weightlifting', 'Wrestling',\n",
       "       'Archery', 'Judo', 'Golf', 'Nordic Combined', 'Water Polo',\n",
       "       'Triathlon', 'Basketball', 'Beach Volleyball',\n",
       "       'Rhythmic Gymnastics', 'Volleyball', 'Taekwondo',\n",
       "       'Short Track Speed Skating', 'Table Tennis',\n",
       "       'Synchronized Swimming', 'Skeleton', 'Ski Jumping', 'Luge',\n",
       "       'Trampolining', 'Tug-Of-War', 'Curling', 'Rugby', 'Lacrosse',\n",
       "       'Art Competitions', 'Motorboating'], dtype=object)"
      ]
     },
     "execution_count": 187,
     "metadata": {},
     "output_type": "execute_result"
    }
   ],
   "source": [
    "athlete_events['Sport'].unique()"
   ]
  },
  {
   "cell_type": "markdown",
   "id": "3ad29fe8",
   "metadata": {},
   "source": [
    "H0: there is no difference in height of sportsmen in Judo and Basketball.\n",
    "\n",
    "H1: Height of sportsmen in Judo and Basketball is different."
   ]
  },
  {
   "cell_type": "code",
   "execution_count": 188,
   "id": "297930a2",
   "metadata": {},
   "outputs": [],
   "source": [
    "judo_bas_m = athlete_events.query('Sport == \"Judo\" or Sport == \"Basketball\"').query('Sex == \"M\"')"
   ]
  },
  {
   "cell_type": "code",
   "execution_count": 189,
   "id": "d364840d",
   "metadata": {},
   "outputs": [
    {
     "data": {
      "text/plain": [
       "88.91045336440281"
      ]
     },
     "execution_count": 189,
     "metadata": {},
     "output_type": "execute_result"
    }
   ],
   "source": [
    "judo_height = judo_bas_m.query('Sport == \"Judo\"')['Height']\n",
    "judo_height.var()"
   ]
  },
  {
   "cell_type": "code",
   "execution_count": 190,
   "id": "d0e09600",
   "metadata": {},
   "outputs": [
    {
     "data": {
      "text/plain": [
       "102.53465343917968"
      ]
     },
     "execution_count": 190,
     "metadata": {},
     "output_type": "execute_result"
    }
   ],
   "source": [
    "basketball_height = judo_bas_m.query('Sport == \"Basketball\"')['Height']\n",
    "basketball_height.var()"
   ]
  },
  {
   "cell_type": "code",
   "execution_count": 191,
   "id": "5ceb3c1e",
   "metadata": {},
   "outputs": [
    {
     "data": {
      "text/plain": [
       "Ttest_indResult(statistic=-63.83963796119676, pvalue=0.0)"
      ]
     },
     "execution_count": 191,
     "metadata": {},
     "output_type": "execute_result"
    }
   ],
   "source": [
    "ttest_ind(judo_height, basketball_height)"
   ]
  },
  {
   "cell_type": "code",
   "execution_count": 192,
   "id": "9f0a9a5a",
   "metadata": {},
   "outputs": [
    {
     "data": {
      "image/png": "[encoded data removed]",
      "text/plain": [
       "<Figure size 1170x827 with 1 Axes>"
      ]
     },
     "metadata": {},
     "output_type": "display_data"
    }
   ],
   "source": [
    "sns.boxplot(data=judo_bas_m, x=\"Sport\", y=\"Height\")\n",
    "plt.axhline(235, linewidth=2, color='black', xmin=0.25, xmax=0.75)\n",
    "plt.ylim(130, 250)\n",
    "plt.text(0.25, 240, \"p-value << 0.05\", fontsize=20, color='black');"
   ]
  },
  {
   "cell_type": "markdown",
   "id": "9c2fe5e3",
   "metadata": {},
   "source": [
    "Basketball players are higher."
   ]
  },
  {
   "cell_type": "markdown",
   "id": "9d820193",
   "metadata": {},
   "source": [
    "### Weight in two differnt sports"
   ]
  },
  {
   "cell_type": "markdown",
   "id": "f20e5a96",
   "metadata": {},
   "source": [
    "H0: There is no difference in weight of sportsmen in Judo and Boxing.\n",
    "\n",
    "H1: Weight of sportsmen in Judo and Boxing is different."
   ]
  },
  {
   "cell_type": "code",
   "execution_count": 193,
   "id": "105e865b",
   "metadata": {},
   "outputs": [],
   "source": [
    "judo_box_m = athlete_events.query('Sport == \"Judo\" or Sport == \"Boxing\"').query('Sex == \"M\"')"
   ]
  },
  {
   "cell_type": "code",
   "execution_count": 194,
   "id": "bb5ac064",
   "metadata": {},
   "outputs": [
    {
     "data": {
      "text/plain": [
       "416.5089203842139"
      ]
     },
     "execution_count": 194,
     "metadata": {},
     "output_type": "execute_result"
    }
   ],
   "source": [
    "judo_weight = judo_box_m.query('Sport == \"Judo\"')['Weight']\n",
    "judo_weight.var()"
   ]
  },
  {
   "cell_type": "code",
   "execution_count": 195,
   "id": "0bbb39de",
   "metadata": {},
   "outputs": [
    {
     "data": {
      "text/plain": [
       "172.50326040144898"
      ]
     },
     "execution_count": 195,
     "metadata": {},
     "output_type": "execute_result"
    }
   ],
   "source": [
    "boxing_weight = judo_box_m.query('Sport == \"Boxing\"')['Weight']\n",
    "boxing_weight.var()"
   ]
  },
  {
   "cell_type": "code",
   "execution_count": 196,
   "id": "b52d068c",
   "metadata": {},
   "outputs": [
    {
     "data": {
      "text/plain": [
       "Ttest_indResult(statistic=39.598017632487085, pvalue=2.625437466799455e-283)"
      ]
     },
     "execution_count": 196,
     "metadata": {},
     "output_type": "execute_result"
    }
   ],
   "source": [
    "ttest_ind(judo_weight, boxing_weight, equal_var=False)"
   ]
  },
  {
   "cell_type": "code",
   "execution_count": 197,
   "id": "120d9c35",
   "metadata": {},
   "outputs": [
    {
     "data": {
      "image/png": "[encoded data removed]",
      "text/plain": [
       "<Figure size 1170x827 with 1 Axes>"
      ]
     },
     "metadata": {},
     "output_type": "display_data"
    }
   ],
   "source": [
    "sns.boxplot(data=judo_box_m, x=\"Sport\", y=\"Weight\")\n",
    "plt.axhline(225, linewidth=2, color='black', xmin=0.25, xmax=0.75)\n",
    "plt.ylim(30, 250)\n",
    "plt.text(0.25, 230, \"p-value << 0.05\", fontsize=20, color='black');"
   ]
  },
  {
   "cell_type": "markdown",
   "id": "34314748",
   "metadata": {},
   "source": [
    "Judo sportsmen are heavier (I thought the opposite...)"
   ]
  },
  {
   "cell_type": "markdown",
   "id": "31f9d3e2",
   "metadata": {},
   "source": [
    "### How number of women and men changed"
   ]
  },
  {
   "cell_type": "markdown",
   "id": "1af90721",
   "metadata": {},
   "source": [
    "Let's check to intervals: in 20th century and in 21st."
   ]
  },
  {
   "cell_type": "code",
   "execution_count": 198,
   "id": "ddb4a188",
   "metadata": {},
   "outputs": [],
   "source": [
    "athlete_events_21 = athlete_events.query(\"2000 < Year <= 2010\")"
   ]
  },
  {
   "cell_type": "code",
   "execution_count": 199,
   "id": "e914e608",
   "metadata": {},
   "outputs": [],
   "source": [
    "athlete_events_20 = athlete_events.query(\"1950 < Year <= 1960\")"
   ]
  },
  {
   "cell_type": "code",
   "execution_count": 200,
   "id": "fa4c2106",
   "metadata": {},
   "outputs": [
    {
     "data": {
      "text/plain": [
       "M    23183\n",
       "F    16420\n",
       "Name: Sex, dtype: int64"
      ]
     },
     "execution_count": 200,
     "metadata": {},
     "output_type": "execute_result"
    }
   ],
   "source": [
    "athlete_events_21['Sex'].value_counts()"
   ]
  },
  {
   "cell_type": "code",
   "execution_count": 201,
   "id": "b123f391",
   "metadata": {},
   "outputs": [
    {
     "data": {
      "text/plain": [
       "M    10231\n",
       "F     2459\n",
       "Name: Sex, dtype: int64"
      ]
     },
     "execution_count": 201,
     "metadata": {},
     "output_type": "execute_result"
    }
   ],
   "source": [
    "athlete_events_20['Sex'].value_counts()"
   ]
  },
  {
   "cell_type": "code",
   "execution_count": 202,
   "id": "cfcffba9",
   "metadata": {},
   "outputs": [],
   "source": [
    "m_20 = athlete_events_20[\"Sex\"].value_counts()['M']\n",
    "f_20 = athlete_events_20[\"Sex\"].value_counts()['F']\n",
    "total_20 = athlete_events_20.shape[0]\n",
    "\n",
    "m_21 = athlete_events_21[\"Sex\"].value_counts()['M']\n",
    "f_21 = athlete_events_21[\"Sex\"].value_counts()['F']\n",
    "total_21 = athlete_events_21.shape[0]"
   ]
  },
  {
   "cell_type": "code",
   "execution_count": 203,
   "id": "7af53e3d",
   "metadata": {},
   "outputs": [],
   "source": [
    "f_part = (f_20 +  f_21) / (total_20 + total_21)\n",
    "m_part = (m_20 +  m_21) / (total_20 + total_21)"
   ]
  },
  {
   "cell_type": "code",
   "execution_count": 204,
   "id": "0834af6a",
   "metadata": {},
   "outputs": [],
   "source": [
    "m_20_exp = total_20 * m_part\n",
    "f_20_exp = total_20 * f_part\n",
    "m_21_exp = total_21 * m_part\n",
    "f_21_exp = total_21 * f_part"
   ]
  },
  {
   "cell_type": "code",
   "execution_count": 205,
   "id": "01d2bb71",
   "metadata": {},
   "outputs": [
    {
     "data": {
      "text/plain": [
       "Power_divergenceResult(statistic=2031.8094406057648, pvalue=0.0)"
      ]
     },
     "execution_count": 205,
     "metadata": {},
     "output_type": "execute_result"
    }
   ],
   "source": [
    "chisquare([m_20, f_20, m_21, f_21], f_exp=[m_20_exp, f_20_exp, m_21_exp, f_21_exp])"
   ]
  },
  {
   "cell_type": "markdown",
   "id": "9a1164df",
   "metadata": {},
   "source": [
    "Looks like the ratio of men and women really changed."
   ]
  },
  {
   "cell_type": "code",
   "execution_count": 206,
   "id": "384182b7",
   "metadata": {},
   "outputs": [],
   "source": [
    "year_count = athlete_events.groupby('Year').agg({'Sex': 'value_counts'})\n",
    "year_count = year_count.rename(columns={'Sex':'Count'}).reset_index()"
   ]
  },
  {
   "cell_type": "code",
   "execution_count": 207,
   "id": "b6c15af9",
   "metadata": {},
   "outputs": [
    {
     "data": {
      "text/html": [
       "<div>\n",
       "<style scoped>\n",
       "    .dataframe tbody tr th:only-of-type {\n",
       "        vertical-align: middle;\n",
       "    }\n",
       "\n",
       "    .dataframe tbody tr th {\n",
       "        vertical-align: top;\n",
       "    }\n",
       "\n",
       "    .dataframe thead th {\n",
       "        text-align: right;\n",
       "    }\n",
       "</style>\n",
       "<table border=\"1\" class=\"dataframe\">\n",
       "  <thead>\n",
       "    <tr style=\"text-align: right;\">\n",
       "      <th></th>\n",
       "      <th>Year</th>\n",
       "      <th>Sex</th>\n",
       "      <th>Count</th>\n",
       "    </tr>\n",
       "  </thead>\n",
       "  <tbody>\n",
       "    <tr>\n",
       "      <th>0</th>\n",
       "      <td>1896</td>\n",
       "      <td>M</td>\n",
       "      <td>40</td>\n",
       "    </tr>\n",
       "    <tr>\n",
       "      <th>1</th>\n",
       "      <td>1900</td>\n",
       "      <td>M</td>\n",
       "      <td>71</td>\n",
       "    </tr>\n",
       "    <tr>\n",
       "      <th>2</th>\n",
       "      <td>1904</td>\n",
       "      <td>M</td>\n",
       "      <td>119</td>\n",
       "    </tr>\n",
       "    <tr>\n",
       "      <th>3</th>\n",
       "      <td>1906</td>\n",
       "      <td>M</td>\n",
       "      <td>201</td>\n",
       "    </tr>\n",
       "    <tr>\n",
       "      <th>4</th>\n",
       "      <td>1908</td>\n",
       "      <td>M</td>\n",
       "      <td>365</td>\n",
       "    </tr>\n",
       "  </tbody>\n",
       "</table>\n",
       "</div>"
      ],
      "text/plain": [
       "   Year Sex  Count\n",
       "0  1896   M     40\n",
       "1  1900   M     71\n",
       "2  1904   M    119\n",
       "3  1906   M    201\n",
       "4  1908   M    365"
      ]
     },
     "execution_count": 207,
     "metadata": {},
     "output_type": "execute_result"
    }
   ],
   "source": [
    "year_count.head()"
   ]
  },
  {
   "cell_type": "code",
   "execution_count": 208,
   "id": "31aed2bd",
   "metadata": {},
   "outputs": [],
   "source": [
    "year_total = year_count.groupby('Year').agg({'Count': 'sum'}).reset_index()"
   ]
  },
  {
   "cell_type": "code",
   "execution_count": 209,
   "id": "d1b5608b",
   "metadata": {},
   "outputs": [
    {
     "data": {
      "image/png": "[encoded data removed]",
      "text/plain": [
       "<Figure size 1170x827 with 1 Axes>"
      ]
     },
     "metadata": {},
     "output_type": "display_data"
    }
   ],
   "source": [
    "sns.lineplot(data=year_total, x=\"Year\", y=\"Count\", color='black');"
   ]
  },
  {
   "cell_type": "markdown",
   "id": "e2e960b7",
   "metadata": {},
   "source": [
    "This is how number of all participants changed: it became sharply bigger in 1950s. I suppose that fluctuations in the end reflect the division to winter and summer games to different years."
   ]
  },
  {
   "cell_type": "code",
   "execution_count": 210,
   "id": "0c7805e6",
   "metadata": {},
   "outputs": [
    {
     "data": {
      "image/png": "[encoded data removed]",
      "text/plain": [
       "<Figure size 1170x827 with 1 Axes>"
      ]
     },
     "metadata": {},
     "output_type": "display_data"
    }
   ],
   "source": [
    "sns.lineplot(data=year_count, x=\"Year\", y=\"Count\", hue=\"Sex\");"
   ]
  },
  {
   "cell_type": "markdown",
   "id": "a08d4a5f",
   "metadata": {},
   "source": [
    "We can see, that number of men doesn't considerably change since 1960s, but number of women is slightly growing."
   ]
  }
 ],
 "metadata": {
  "kernelspec": {
   "display_name": "Python 3 (ipykernel)",
   "language": "python",
   "name": "python3"
  },
  "language_info": {
   "codemirror_mode": {
    "name": "ipython",
    "version": 3
   },
   "file_extension": ".py",
   "mimetype": "text/x-python",
   "name": "python",
   "nbconvert_exporter": "python",
   "pygments_lexer": "ipython3",
   "version": "3.10.8"
  }
 },
 "nbformat": 4,
 "nbformat_minor": 5
}
